{
 "cells": [
  {
   "cell_type": "markdown",
   "metadata": {},
   "source": [
    "<h1 style = \"text-align : center ; color : black ; border-style : solid none ; padding : 15px ; margin-right : 5px\">      \n",
    "    TP: LES DICTIONNAIRES    \n",
    "</h1>"
   ]
  },
  {
   "cell_type": "markdown",
   "metadata": {},
   "source": [
    "<h3>      \n",
    "   I-Les tuples (ou P-uplets)\n",
    "</h3>"
   ]
  },
  {
   "cell_type": "markdown",
   "metadata": {},
   "source": [
    "Python propose un type de données appelé tuple, qui est assez semblable à une liste mais qui, comme les chaînes, n’est pas modifiable. Du point de vue de la syntaxe, un tuple est une collection d’éléments séparés par des virgules :"
   ]
  },
  {
   "cell_type": "code",
   "execution_count": 1,
   "metadata": {},
   "outputs": [
    {
     "name": "stdout",
     "output_type": "stream",
     "text": [
      "(1, 2, 3) <class 'tuple'>\n",
      "(6, 7) <class 'tuple'>\n",
      "('abc', 'def') <class 'tuple'>\n",
      "('a', 1, 'b', 2) <class 'tuple'>\n"
     ]
    }
   ],
   "source": [
    "#Exécuter le code ci-dessous\n",
    "tup1 = 1,2,3\n",
    "tup2 = (6,7)\n",
    "tup3 = 'abc','def'\n",
    "tup4 = ('a',1,'b',2)\n",
    "print(tup1,type(tup1))\n",
    "print(tup2,type(tup2))\n",
    "print(tup3,type(tup3))\n",
    "print(tup4,type(tup4))"
   ]
  },
  {
   "cell_type": "markdown",
   "metadata": {},
   "source": [
    "A retenir :\n",
    "   *  De simples virgules suffisent à définir un tuple mais pour la lisibilité du code, il est préférable de l'enfermer dans des parenthèses."
   ]
  },
  {
   "cell_type": "markdown",
   "metadata": {},
   "source": [
    "**Opérations sur les tuples:**"
   ]
  },
  {
   "cell_type": "code",
   "execution_count": 2,
   "metadata": {},
   "outputs": [
    {
     "name": "stdout",
     "output_type": "stream",
     "text": [
      "7\n"
     ]
    }
   ],
   "source": [
    "#affectations\n",
    "t= 7,8,9\n",
    "a,b,c = t\n",
    "print(a)"
   ]
  },
  {
   "cell_type": "code",
   "execution_count": 3,
   "metadata": {},
   "outputs": [
    {
     "name": "stdout",
     "output_type": "stream",
     "text": [
      "(3, 2, 1, 3, 2, 1, 6, 5, 4)\n"
     ]
    }
   ],
   "source": [
    "# opérateurs + et * : concanténation et répétition\n",
    "t1=  (3,2,1)\n",
    "t2 = (6,5,4)\n",
    "t3 = 2*t1+t2\n",
    "print(t3)"
   ]
  },
  {
   "cell_type": "code",
   "execution_count": 4,
   "metadata": {},
   "outputs": [
    {
     "name": "stdout",
     "output_type": "stream",
     "text": [
      "2\n"
     ]
    }
   ],
   "source": [
    "# Accéder aux éléments\n",
    "t4 = (2,4)\n",
    "print(t4[0])"
   ]
  },
  {
   "cell_type": "code",
   "execution_count": 5,
   "metadata": {},
   "outputs": [
    {
     "name": "stdout",
     "output_type": "stream",
     "text": [
      "9\n"
     ]
    }
   ],
   "source": [
    "# longueur d'un tuple\n",
    "print(len(t3))"
   ]
  },
  {
   "cell_type": "code",
   "execution_count": 6,
   "metadata": {},
   "outputs": [
    {
     "name": "stdout",
     "output_type": "stream",
     "text": [
      "1 2 3 4 5 6 7 8 9 10 "
     ]
    }
   ],
   "source": [
    "# Parcours d'un tuple\n",
    "t5 = (0,1,2,3,4,5,6,7,8,9)\n",
    "for e in t5 :\n",
    "    print(e+1, end=' ')"
   ]
  },
  {
   "cell_type": "code",
   "execution_count": 7,
   "metadata": {},
   "outputs": [
    {
     "name": "stdout",
     "output_type": "stream",
     "text": [
      "False\n"
     ]
    }
   ],
   "source": [
    "# test in \n",
    "b = 3 in (2,4,6)\n",
    "print(b)"
   ]
  },
  {
   "cell_type": "code",
   "execution_count": 8,
   "metadata": {},
   "outputs": [
    {
     "ename": "AttributeError",
     "evalue": "'tuple' object has no attribute 'append'",
     "output_type": "error",
     "traceback": [
      "\u001b[1;31m---------------------------------------------------------------------------\u001b[0m",
      "\u001b[1;31mAttributeError\u001b[0m                            Traceback (most recent call last)",
      "\u001b[1;32m<ipython-input-8-366c3bc37ff0>\u001b[0m in \u001b[0;36m<module>\u001b[1;34m\u001b[0m\n\u001b[0;32m      1\u001b[0m \u001b[1;31m# les tuples ne sont pas des listes\u001b[0m\u001b[1;33m\u001b[0m\u001b[1;33m\u001b[0m\u001b[0m\n\u001b[0;32m      2\u001b[0m \u001b[0mt6\u001b[0m \u001b[1;33m=\u001b[0m \u001b[1;33m(\u001b[0m\u001b[1;36m2\u001b[0m\u001b[1;33m,\u001b[0m\u001b[1;36m4\u001b[0m\u001b[1;33m,\u001b[0m\u001b[1;36m6\u001b[0m\u001b[1;33m,\u001b[0m\u001b[1;36m8\u001b[0m\u001b[1;33m)\u001b[0m\u001b[1;33m\u001b[0m\u001b[0m\n\u001b[1;32m----> 3\u001b[1;33m \u001b[0mt6\u001b[0m\u001b[1;33m.\u001b[0m\u001b[0mappend\u001b[0m\u001b[1;33m(\u001b[0m\u001b[1;36m10\u001b[0m\u001b[1;33m)\u001b[0m\u001b[1;33m\u001b[0m\u001b[0m\n\u001b[0m",
      "\u001b[1;31mAttributeError\u001b[0m: 'tuple' object has no attribute 'append'"
     ]
    }
   ],
   "source": [
    "# les tuples ne sont pas des listes\n",
    "t6 = (2,4,6,8)\n",
    "t6.append(10)"
   ]
  },
  {
   "cell_type": "code",
   "execution_count": 9,
   "metadata": {},
   "outputs": [
    {
     "name": "stdout",
     "output_type": "stream",
     "text": [
      "(1, 2, 3, 4, 5, 6)\n"
     ]
    }
   ],
   "source": [
    "#Ajouter un élément à un tuple\n",
    "t7 = 1,2,3,4,5\n",
    "t7 = t7 + (6,) # ne pas oublier la virgule et les parenthèses\n",
    "print(t7)"
   ]
  },
  {
   "cell_type": "markdown",
   "metadata": {},
   "source": [
    "A retenir :\n",
    "* Les opérateurs de concaténation `+` et de multiplication `*` donnent les mêmes résultats que pour les chaînes et les listes.\n",
    "* On accède aux éléments d'un tuple comme avec les chaînes et les listes.\n",
    "* On peut déterminer la taille d’un tuple à l’aide de la fonction `len()`.\n",
    "* On peut le parcourir à l’aide d’une boucle `for`, utiliser l’instruction `in` pour savoir si un élément donné en fait partie, exactement comme pour une liste ou pour une chaîne.\n",
    "* Les tuples ne sont pas modifiables et on ne peut pas utiliser avec eux  ni la méthode `.append()`ni l'instruction `del()`.\n",
    "* Les tuples sont moins souples que les listes mais c'est aussi leur force. On est sûr que leur contenu ne sera pas modifié par erreur. De plus ils sont beaucoup moins gourmands en ressources et sont éxécutés plus rapidement."
   ]
  },
  {
   "cell_type": "markdown",
   "metadata": {},
   "source": [
    "**Exercice 1:**\n",
    "Ecrire la fonction `reverse(t)` qui prend en paramètre un tuple de trois valeurs et qui renvoie un tuple contenant les 3 valeurs dans l'ordre inverse.\n",
    "\n",
    "Ainsi `reverse(1,2,3)` renvoie `(3,2,1)`"
   ]
  },
  {
   "cell_type": "code",
   "execution_count": 14,
   "metadata": {},
   "outputs": [],
   "source": [
    "def reverse(t):\n",
    "    t2=t[2],t[1],t[0]\n",
    "    return t2"
   ]
  },
  {
   "cell_type": "code",
   "execution_count": 15,
   "metadata": {},
   "outputs": [
    {
     "name": "stdout",
     "output_type": "stream",
     "text": [
      "(9, 8, 7)\n"
     ]
    }
   ],
   "source": [
    "tuple=(7,8,9)\n",
    "print(reverse(tuple))"
   ]
  },
  {
   "cell_type": "markdown",
   "metadata": {},
   "source": [
    "**Exercice 2:** Ecrire la fonction `initiales` qui prend en paramètre une chaîne de caractères de type `'NOM Prénom'` et qui renvoie un tuple contenant les initiales des noms et prénoms passés en argument. \n",
    "\n",
    "Ainsi `initiales('John Doe')` doit renvoyer `('J','D')`."
   ]
  },
  {
   "cell_type": "code",
   "execution_count": 22,
   "metadata": {},
   "outputs": [],
   "source": [
    "def initiales(chaine):\n",
    "    t=()\n",
    "    t=t+(chaine[0],)\n",
    "    for i in range(1,len(chaine)):\n",
    "        if chaine[i]==\" \":\n",
    "            t=t+(chaine[i+1],)\n",
    "    return t"
   ]
  },
  {
   "cell_type": "code",
   "execution_count": 23,
   "metadata": {},
   "outputs": [],
   "source": [
    "assert initiales('Dark Vador')== ('D','V')\n",
    "assert initiales('Palpatine') == ('P',)"
   ]
  },
  {
   "cell_type": "markdown",
   "metadata": {},
   "source": [
    "<h3>      \n",
    "   II-LES ENSEMBLES\n",
    "</h3>"
   ]
  },
  {
   "cell_type": "markdown",
   "metadata": {},
   "source": [
    "Les ensemble ou sets forment un autre type de données construites en Python. Un ensemble est une collection d’éléments non ordonnée, sans index et qui ne peut pas posséder l’élément dupliqué.\n",
    "\n",
    "Une des utilisation les plus courantes des ensembles est de les utiliser pour supprimer des valeurs doublons à partir d’un autre type de données.\n",
    "\n",
    "Pour créer un ensemble, nous allons utiliser une paire d’accolades { } en placer les différents éléments de notre ensemble entre ces accolades en les séparant avec une virgule.\n",
    "\n",
    "Notez que pour créer un ensemble vide il faudra utiliser la fonction set() car la syntaxe { } va créer un dictionnaire vide et non pas un ensemble vide."
   ]
  },
  {
   "cell_type": "code",
   "execution_count": 24,
   "metadata": {},
   "outputs": [
    {
     "name": "stdout",
     "output_type": "stream",
     "text": [
      "{1, 2, 3, 4}\n",
      "<class 'set'>\n"
     ]
    }
   ],
   "source": [
    "s={4,1,2,2,3}\n",
    "print(s)\n",
    "print(type(s))"
   ]
  },
  {
   "cell_type": "code",
   "execution_count": 25,
   "metadata": {},
   "outputs": [
    {
     "name": "stdout",
     "output_type": "stream",
     "text": [
      "<class 'dict'>\n",
      "<class 'set'>\n"
     ]
    }
   ],
   "source": [
    "s1={}\n",
    "print(type(s1))\n",
    "s2=set()\n",
    "print(type(s2))"
   ]
  },
  {
   "cell_type": "markdown",
   "metadata": {},
   "source": [
    "La fonction set( ) permet la construction d’un ensemble à partir de n’importe quelle valeur itérable. En voici quelques exemples :"
   ]
  },
  {
   "cell_type": "code",
   "execution_count": 26,
   "metadata": {},
   "outputs": [
    {
     "data": {
      "text/plain": [
       "{'B', 'a', 'd', 'e', 'n', 'r', 't'}"
      ]
     },
     "execution_count": 26,
     "metadata": {},
     "output_type": "execute_result"
    }
   ],
   "source": [
    "set('Bertrand')"
   ]
  },
  {
   "cell_type": "code",
   "execution_count": 27,
   "metadata": {},
   "outputs": [
    {
     "data": {
      "text/plain": [
       "{1, 3, 4, 5, 8, 9, 10}"
      ]
     },
     "execution_count": 27,
     "metadata": {},
     "output_type": "execute_result"
    }
   ],
   "source": [
    "set([3,1,4,1,5,9,8,10])"
   ]
  },
  {
   "cell_type": "markdown",
   "metadata": {},
   "source": [
    "Méthodes `add` et `remove`\n",
    "\n",
    "Ces méthodes ajoutent et retirent un élément dans un ensemble. Elles modifient l’ensemble:"
   ]
  },
  {
   "cell_type": "code",
   "execution_count": 28,
   "metadata": {},
   "outputs": [
    {
     "name": "stdout",
     "output_type": "stream",
     "text": [
      "False\n",
      "True\n"
     ]
    }
   ],
   "source": [
    "ens1={1,2,3}\n",
    "print(4 in ens1)\n",
    "ens1.add(4)\n",
    "print(4 in ens1)"
   ]
  },
  {
   "cell_type": "code",
   "execution_count": 29,
   "metadata": {},
   "outputs": [
    {
     "name": "stdout",
     "output_type": "stream",
     "text": [
      "False\n"
     ]
    }
   ],
   "source": [
    "ens1.remove(4)\n",
    "print(4 in ens1)"
   ]
  },
  {
   "cell_type": "markdown",
   "metadata": {},
   "source": [
    "<h3>      \n",
    "   III-LES DICTIONNAIRES\n",
    "</h3>"
   ]
  },
  {
   "cell_type": "markdown",
   "metadata": {},
   "source": [
    "**1. Définition et création**"
   ]
  },
  {
   "cell_type": "markdown",
   "metadata": {},
   "source": [
    "Les types de données construits que nous avons abordés jusqu’à présent (chaînes, listes et tuples) sont tous des séquences, c’est-à-dire des suites ordonnées d’éléments. Dans une séquence, il est facile\n",
    "d’accéder à un élément quelconque à l’aide d’un index (un nombre entier), mais encore faut-il le connaître.\n",
    "\n",
    "Les dictionnaires constituent un autre type construit. Ils ressemblent aux listes( ils sont modifiables comme elles), mais ce ne sont pas des séquences. Les éléments que nous allons y enregistrer ne seront pas disposés dans un ordre immuable. En revanche, nous pourrons accéder à n’importe lequel d’entre eux à l’aide d’un index que l’on appellera une clé, laquelle pourra être alphabétique ou numérique.\n",
    "\n",
    "\n",
    "Comme dans une liste, les éléments mémorisés dans un dictionnaire peuvent être de n’importe quel type( valeurs numériques, chaînes, listes ou encore des dictionnaires, et même aussi des fonctions).\n",
    "\n",
    "Exemple :\n"
   ]
  },
  {
   "cell_type": "code",
   "execution_count": 30,
   "metadata": {},
   "outputs": [
    {
     "name": "stdout",
     "output_type": "stream",
     "text": [
      "{'nom': 'Paris-Orly Airport', 'ville': 'Paris', 'pays': 'France', 'code': 'ORY', 'gps': (48.7233333, 2.3794444)}\n",
      "ORY\n",
      "(48.7233333, 2.3794444)\n"
     ]
    }
   ],
   "source": [
    "dico1={}\n",
    "dico1['nom']='Paris-Orly Airport'\n",
    "dico1['ville']='Paris'\n",
    "dico1['pays']='France'\n",
    "dico1['code']='ORY'\n",
    "dico1['gps']=(48.7233333,2.3794444)\n",
    "\n",
    "print(dico1)\n",
    "print(dico1['code'])\n",
    "print(dico1['gps'])"
   ]
  },
  {
   "cell_type": "markdown",
   "metadata": {},
   "source": [
    "Remarques :\n",
    "\n",
    "- Des accolades délimitent un dictionnaire.\n",
    "- Les éléments d'un dictionnaire sont séparés par une virgule.\n",
    "- Chacun des éléments est une paire d'objets séparés par deux points : une clé et une valeur.\n",
    "- La valeur de la clé 'code' est 'ORY'.\n",
    "- La valeur de la clé 'gps' est un tuple de deux flottants."
   ]
  },
  {
   "cell_type": "markdown",
   "metadata": {},
   "source": [
    "**Exercice**"
   ]
  },
  {
   "cell_type": "markdown",
   "metadata": {},
   "source": [
    "Voici des données concernant l'aéroport international de Los Angeles :\n",
    "\n",
    "* __\"Los Angeles International Airport\",\"Los Angeles\",\"United States\",\"LAX\",33.94250107,-118.4079971__\n",
    "\n",
    "\n",
    "En utilisant les mêmes clés que dans l'exemple précédent, créer le dictionnaire 'dico2' qui contiendra les données ci-dessus"
   ]
  },
  {
   "cell_type": "code",
   "execution_count": 32,
   "metadata": {},
   "outputs": [
    {
     "name": "stdout",
     "output_type": "stream",
     "text": [
      "{'nom': 'Los Angeles', 'ville': 'Los Angeles', 'pays': 'United States', 'code': 'LAX', 'gps': (33.94250107, -118.4079971)}\n",
      "(33.94250107, -118.4079971)\n"
     ]
    }
   ],
   "source": [
    "dico2={'nom':\"Los Angeles\",\"ville\":\"Los Angeles\",\"pays\":\"United States\",\"code\":\"LAX\",\"gps\":(33.94250107,-118.4079971)}\n",
    "print(dico2)\n",
    "print(dico2['gps'])"
   ]
  },
  {
   "cell_type": "markdown",
   "metadata": {},
   "source": [
    "**2. Méthodes:**"
   ]
  },
  {
   "cell_type": "code",
   "execution_count": 33,
   "metadata": {},
   "outputs": [
    {
     "name": "stdout",
     "output_type": "stream",
     "text": [
      "dict_keys(['nom', 'ville', 'pays', 'code', 'gps'])\n",
      "dict_values(['Paris-Orly Airport', 'Paris', 'France', 'ORY', (48.7233333, 2.3794444)])\n",
      "dict_items([('nom', 'Paris-Orly Airport'), ('ville', 'Paris'), ('pays', 'France'), ('code', 'ORY'), ('gps', (48.7233333, 2.3794444))])\n"
     ]
    }
   ],
   "source": [
    "#Afficher les clés\n",
    "print(dico1.keys())\n",
    "\n",
    "#Affichées les valeurs\n",
    "print(dico1.values())\n",
    "\n",
    "#Afficher les éléments\n",
    "print(dico1.items())"
   ]
  },
  {
   "cell_type": "markdown",
   "metadata": {},
   "source": [
    "**3. Parcourir un dictionnaire**"
   ]
  },
  {
   "cell_type": "markdown",
   "metadata": {},
   "source": [
    "On peut traiter par un parcours les éléments contenus dans un dictionnaire:\n",
    "Au cours de l'itération, __ce sont les clés__ qui servent d'index\n",
    "\n",
    "Exemple :"
   ]
  },
  {
   "cell_type": "code",
   "execution_count": 34,
   "metadata": {},
   "outputs": [
    {
     "name": "stdout",
     "output_type": "stream",
     "text": [
      "nom\n",
      "ville\n",
      "pays\n",
      "code\n",
      "gps\n"
     ]
    }
   ],
   "source": [
    "for element in dico1:\n",
    "    print(element)"
   ]
  },
  {
   "cell_type": "markdown",
   "metadata": {},
   "source": [
    "<h3>      \n",
    "   IV-EXERCICES SUR LES DICTIONNAIRES\n",
    "</h3>"
   ]
  },
  {
   "cell_type": "markdown",
   "metadata": {},
   "source": [
    "**Exercice 1**"
   ]
  },
  {
   "cell_type": "markdown",
   "metadata": {},
   "source": [
    "Lors d'une élection, entre 2 et 6 candidats se présentent. Il y a 100 votants, chacun glisse un bulletin avec le nom d'un candidat dans l'urne. Les lignes de code ci-dessous simulent cette expérience."
   ]
  },
  {
   "cell_type": "code",
   "execution_count": 53,
   "metadata": {},
   "outputs": [
    {
     "name": "stdout",
     "output_type": "stream",
     "text": [
      "Candidats :  ['Eva', 'Bob', 'Charlie', 'Fred', 'Daniella']\n",
      "Contenu de l'urne : ['Eva', 'Bob', 'Charlie', 'Bob', 'Eva', 'Fred', 'Bob', 'Charlie', 'Daniella', 'Daniella', 'Eva', 'Eva', 'Bob', 'Bob', 'Fred', 'Charlie', 'Charlie', 'Bob', 'Bob', 'Daniella', 'Fred', 'Charlie', 'Charlie', 'Fred', 'Bob', 'Daniella', 'Charlie', 'Bob', 'Eva', 'Daniella', 'Daniella', 'Bob', 'Fred', 'Eva', 'Fred', 'Fred', 'Eva', 'Fred', 'Fred', 'Daniella', 'Daniella', 'Fred', 'Daniella', 'Fred', 'Charlie', 'Eva', 'Bob', 'Charlie', 'Charlie', 'Fred', 'Charlie', 'Daniella', 'Bob', 'Daniella', 'Eva', 'Fred', 'Fred', 'Eva', 'Eva', 'Daniella', 'Charlie', 'Fred', 'Eva', 'Bob', 'Fred', 'Fred', 'Fred', 'Fred', 'Charlie', 'Eva', 'Fred', 'Charlie', 'Eva', 'Eva', 'Charlie', 'Fred', 'Bob', 'Eva', 'Bob', 'Daniella', 'Eva', 'Daniella', 'Fred', 'Bob', 'Bob', 'Daniella', 'Fred', 'Charlie', 'Charlie', 'Fred', 'Eva', 'Eva', 'Eva', 'Charlie', 'Eva', 'Eva', 'Eva', 'Fred', 'Eva', 'Charlie']\n"
     ]
    }
   ],
   "source": [
    "from random import *\n",
    "\n",
    "#liste des candidats potentiels\n",
    "noms=['Alice','Bob','Charlie','Daniella','Eva','Fred']\n",
    "\n",
    "#liste des candidats réels\n",
    "candidats=list(set([choice(noms) for i in range(randint(2,len(noms)))]))\n",
    "\n",
    "#nombre de votants\n",
    "votants=100\n",
    "\n",
    "#liste des bulletins dans l'urne\n",
    "urne=[choice(candidats) for i in range(votants)]\n",
    "\n",
    "print('Candidats : ',candidats)\n",
    "print(\"Contenu de l'urne :\", urne)"
   ]
  },
  {
   "cell_type": "markdown",
   "metadata": {},
   "source": [
    "1. Vérifier que les candidats réels changent à chaque éxecution de la cellule ci-desssus ainsi que le contenu de l'urne."
   ]
  },
  {
   "cell_type": "markdown",
   "metadata": {},
   "source": [
    "2. Compléter la fonction `depouillement(urne)`. Elle prend en paramètre une liste (la liste des bulletins exprimés) et renvoie un dctionnaire. Les paires clés-valeurs sont respectivement constituées du noms d'un candidat réels et du nombre de bulletins exprimés en sa faveur. Par exemple, si la liste des candidats est `['Alice','Charlie,'Bob']`, le résultat pourra s'afficher sous la forme `{'Bob': 317, 'Charlie': 363, 'Alice': 320}`"
   ]
  },
  {
   "cell_type": "code",
   "execution_count": 54,
   "metadata": {},
   "outputs": [
    {
     "data": {
      "text/plain": [
       "{'Eva': 24, 'Bob': 17, 'Charlie': 19, 'Fred': 25, 'Daniella': 15}"
      ]
     },
     "execution_count": 54,
     "metadata": {},
     "output_type": "execute_result"
    }
   ],
   "source": [
    "# compléter la fonction\n",
    "def depouillement(urne):\n",
    "    decompte={}\n",
    "    candidats=list(set(urne))\n",
    "    for i in range(len(candidats)):\n",
    "        decompte[candidats[i]]=0\n",
    "    for bulletin in urne:\n",
    "        if bulletin in decompte:\n",
    "            decompte[bulletin] += 1\n",
    "    \n",
    "    return decompte\n",
    "\n",
    "\n",
    "depouillement(urne)"
   ]
  },
  {
   "cell_type": "markdown",
   "metadata": {},
   "source": [
    "3. Ecrire la fonction `vainqueur(election)` qui prend en paramètre un dictionnaire contenant le décompte d'une urne renvoyé par la fonction précédente et qui renvoie le nom du vainqueur."
   ]
  },
  {
   "cell_type": "code",
   "execution_count": 55,
   "metadata": {},
   "outputs": [
    {
     "data": {
      "text/plain": [
       "'Fred'"
      ]
     },
     "execution_count": 55,
     "metadata": {},
     "output_type": "execute_result"
    }
   ],
   "source": [
    "def vainqueur(election):\n",
    "    maximum=list(election.values())[0]\n",
    "    for cle in election.keys():\n",
    "        if election[cle]>maximum:\n",
    "            vainqueur=cle\n",
    "            maximum=election[cle]\n",
    "            \n",
    "    return vainqueur\n",
    "    \n",
    "    \n",
    "vainqueur(depouillement(urne))"
   ]
  },
  {
   "cell_type": "markdown",
   "metadata": {},
   "source": [
    "**Exercice 2**"
   ]
  },
  {
   "cell_type": "markdown",
   "metadata": {},
   "source": [
    "<img style='float:center;' src='https://openflights.org/demo/openflights-routedb-2048.png' width=500>\n",
    "\n",
    "Sur le site https://openflights.org/data.html , on trouve des bases de données mondiales aéronautiques.Le fichier `airports.txt`  présent dans le dossier de cette feuille contient des informations sur les aéroports.\n",
    "\n",
    "\n",
    "Chaque ligne de ce fichier est formatée comme l'exemple ci-dessous :\n",
    "\n",
    "`1989,\"Bora Bora Airport\",\"Bora Bora\",\"French Polynesia\",\"BOB\",\"NTTB\",-16.444400787353516,-151.75100708007812,10,-10,\"U\",\"Pacific/Tahiti\",\"airport\",\"OurAirports\"`\n",
    "\n",
    "On souhaite extraire les informations suivantes pour chaque aéroport:\n",
    "* Sa référence unique, un entier.\n",
    "* Le nom de l'aéroport, une chaîne de caractères\n",
    "* La ville principale qu'il dessert, une chaîne de caractères\n",
    "* Le pays de cette ville,une chaîne de caractères\n",
    "* Le code IATA de l'aéroport composé de 3 lettres en majuscules\n",
    "* Ses coordonées gps (latitude puis longitude), un tuple de 2 flottants."
   ]
  },
  {
   "cell_type": "markdown",
   "metadata": {},
   "source": [
    "1. Compléter les champs ci-dessous pour l'aéroport cité en exemple:\n",
    "   * ref : **1989**\n",
    "   * nom :  **Bora Bora Airport**\n",
    "   * ville : **Bora Bora** \n",
    "   * pays : **French Polynesia**\n",
    "   * gps :  **-16.444.....,-151.75.....**"
   ]
  },
  {
   "cell_type": "markdown",
   "metadata": {},
   "source": [
    "2. La fonction `data_extract` doit parcourir le fichier et extraire les données demandées qu'elle renvoie sous forme d'une liste de dictionnaires.\n",
    "    - Chaque élément de la liste est donc un dictionnaire qui correspond à un aéroport. \n",
    "    - Les clés sont les noms des champs que l'on souhaite extraire et les valeurs sont celles associées à chaque aéroport.\n",
    "\n",
    "Modifier et compléter cette fonction pour qu'elle éxécute la tâche demandée :"
   ]
  },
  {
   "cell_type": "code",
   "execution_count": 1,
   "metadata": {},
   "outputs": [
    {
     "name": "stdout",
     "output_type": "stream",
     "text": [
      "7698\n",
      "{'ref': 1563, 'nom': 'Peretola Airport', 'ville': 'Florence', 'pays': 'Italy', 'code': 'FLR', 'gps': ('43.810001', '11.2051')}\n"
     ]
    }
   ],
   "source": [
    "def data_extract(chemin):\n",
    "    fichier = open(chemin, \"r\",encoding='utf-8')\n",
    "    res = [] # Pour contenir le résultat qui sera une liste de dictionnaires\n",
    "    for ligne in fichier:\n",
    "        datas = ligne.strip().split(\",\")  # une ligne du fichier\n",
    "        res.append(\n",
    "        { \"ref\": int(datas[0]),\n",
    "          \"nom\": datas[1][1:-1],\n",
    "          \"ville\": datas[2][1:-1],\n",
    "          \"pays\": datas[3][1:-1],\n",
    "          \"code\": datas[4][1:-1],\n",
    "          \"gps\" : (datas[6],datas[7])\n",
    "        })\n",
    "        \n",
    "    fichier.close()\n",
    "    return res\n",
    "\n",
    "airports=data_extract('airports.csv')\n",
    "\n",
    "#nombre d'aéroports référencés\n",
    "print(len(airports))\n",
    "\n",
    "#un aéroport au hasard\n",
    "from random import choice\n",
    "print(choice(airports))"
   ]
  },
  {
   "cell_type": "markdown",
   "metadata": {},
   "source": [
    "3. A l'aide d'une liste en compréhension, récupérer la liste des villes françaises desservies par un aéroport"
   ]
  },
  {
   "cell_type": "code",
   "execution_count": 2,
   "metadata": {},
   "outputs": [
    {
     "name": "stdout",
     "output_type": "stream",
     "text": [
      "[{'ref': 1254, 'nom': 'Calais-Dunkerque Airport', 'ville': 'Calais', 'pays': 'France', 'code': 'CQF', 'gps': ('50.962100982666016', '1.954759955406189')}, {'ref': 1255, 'nom': 'Péronne-Saint-Quentin Airport', 'ville': 'Peronne', 'pays': 'France', 'code': '', 'gps': ('49.8685', '3.02958')}, {'ref': 1256, 'nom': 'Nangis-Les Loges Airport', 'ville': 'Nangis', 'pays': 'France', 'code': '', 'gps': ('48.59619903564453', '3.0067899227142334')}, {'ref': 1257, 'nom': \"Bagnoles-de-l'Orne-Couterne Airport\", 'ville': \"Bagnole-de-l'orne\", 'pays': 'France', 'code': '', 'gps': ('48.545799255371094', '-0.38744398951530457')}, {'ref': 1258, 'nom': 'Albert-Bray Airport', 'ville': 'Albert', 'pays': 'France', 'code': 'BYF', 'gps': ('49.9715003967', '2.69765996933')}, {'ref': 1259, 'nom': \"Le Touquet-Côte d'Opale Airport\", 'ville': 'Le Tourquet', 'pays': 'France', 'code': 'LTQ', 'gps': ('50.517398834228516', '1.6205899715423584')}, {'ref': 1260, 'nom': 'Valenciennes-Denain Airport', 'ville': 'Valenciennes', 'pays': 'France', 'code': 'XVS', 'gps': ('50.325801849365234', '3.4612600803375244')}, {'ref': 1261, 'nom': 'Amiens-Glisy Airport', 'ville': 'Amiens', 'pays': 'France', 'code': '', 'gps': ('49.873004', '2.387074')}, {'ref': 1262, 'nom': 'Agen-La Garenne Airport', 'ville': 'Agen', 'pays': 'France', 'code': 'AGF', 'gps': ('44.17470169067383', '0.5905560255050659')}, {'ref': 1263, 'nom': 'Cazaux (BA 120) Air Base', 'ville': 'Cazaux', 'pays': 'France', 'code': '', 'gps': ('44.53329849243164', '-1.125')}, {'ref': 1264, 'nom': 'Bordeaux-Mérignac Airport', 'ville': 'Bordeaux', 'pays': 'France', 'code': 'BOD', 'gps': ('44.828300476100004', '-0.715556025505')}, {'ref': 1265, 'nom': 'Bergerac-Roumanière Airport', 'ville': 'Bergerac', 'pays': 'France', 'code': 'EGC', 'gps': ('44.82529830932617', '0.5186110138893127')}, {'ref': 1266, 'nom': 'Toulouse-Francazal (BA 101) Air Base', 'ville': 'Toulouse', 'pays': 'France', 'code': '', 'gps': ('43.54560089111328', '1.3674999475479126')}, {'ref': 1267, 'nom': 'Cognac-Châteaubernard (BA 709) Air Base', 'ville': 'Cognac', 'pays': 'France', 'code': 'CNG', 'gps': ('45.65829849243164', '-0.3174999952316284')}, {'ref': 1268, 'nom': 'Poitiers-Biard Airport', 'ville': 'Poitiers', 'pays': 'France', 'code': 'PIS', 'gps': ('46.58769989013672', '0.30666598677635193')}, {'ref': 1269, 'nom': 'Montluçon-Guéret Airport', 'ville': 'Montlucon-gueret', 'pays': 'France', 'code': 'MCU', 'gps': ('46.222599029541016', '2.363960027694702')}, {'ref': 1270, 'nom': 'Limoges Airport', 'ville': 'Limoges', 'pays': 'France', 'code': 'LIG', 'gps': ('45.86280059814453', '1.1794400215148926')}, {'ref': 1271, 'nom': 'Mont-de-Marsan (BA 118) Air Base', 'ville': 'Mont-de-marsan', 'pays': 'France', 'code': '', 'gps': ('43.911701', '-0.5075')}, {'ref': 1272, 'nom': 'Niort-Souché Airport', 'ville': 'Niort', 'pays': 'France', 'code': 'NIT', 'gps': ('46.313477', '-0.394529')}, {'ref': 1273, 'nom': 'Toulouse-Blagnac Airport', 'ville': 'Toulouse', 'pays': 'France', 'code': 'TLS', 'gps': ('43.629101', '1.36382')}, {'ref': 1274, 'nom': 'Pau Pyrénées Airport', 'ville': 'Pau', 'pays': 'France', 'code': 'PUF', 'gps': ('43.380001068115234', '-0.41861099004745483')}, {'ref': 1275, 'nom': 'Muret-Lherm Airport', 'ville': 'La Rochelle', 'pays': 'France', 'code': '', 'gps': ('43.44889831542969', '1.2633299827575684')}, {'ref': 1276, 'nom': 'Tarbes-Lourdes-Pyrénées Airport', 'ville': 'Tarbes', 'pays': 'France', 'code': 'LDE', 'gps': ('43.1786994934082', '-0.006438999902456999')}, {'ref': 1277, 'nom': 'Angoulême-Brie-Champniers Airport', 'ville': 'Angouleme', 'pays': 'France', 'code': 'ANG', 'gps': ('45.72919845581055', '0.22145600616931915')}, {'ref': 1278, 'nom': 'Brive Souillac Airport', 'ville': 'Brive', 'pays': 'France', 'code': 'BVE', 'gps': ('45.039722', '1.485556')}, {'ref': 1279, 'nom': 'Périgueux-Bassillac Airport', 'ville': 'Perigueux', 'pays': 'France', 'code': 'PGX', 'gps': ('45.19810104370117', '0.815555989742279')}, {'ref': 1280, 'nom': 'Biarritz-Anglet-Bayonne Airport', 'ville': 'Biarritz-bayonne', 'pays': 'France', 'code': 'BIQ', 'gps': ('43.4683333', '-1.5311111')}, {'ref': 1281, 'nom': 'Cahors-Lalbenque Airport', 'ville': 'Cahors', 'pays': 'France', 'code': 'ZAO', 'gps': ('44.35139846801758', '1.4752800464630127')}, {'ref': 1282, 'nom': 'Saint-Girons-Antichan Airport', 'ville': 'St.-girons', 'pays': 'France', 'code': '', 'gps': ('43.0078010559082', '1.1031500101089478')}, {'ref': 1283, 'nom': 'Arcachon-La Teste-de-Buch Airport', 'ville': 'Arcachon', 'pays': 'France', 'code': '', 'gps': ('44.596401', '-1.11083')}, {'ref': 1284, 'nom': 'Albi-Le Séquestre Airport', 'ville': 'Albi', 'pays': 'France', 'code': 'LBI', 'gps': ('43.91389846801758', '2.1130599975585938')}, {'ref': 1285, 'nom': 'Castres-Mazamet Airport', 'ville': 'Castres', 'pays': 'France', 'code': 'DCM', 'gps': ('43.55630111694336', '2.289180040359497')}, {'ref': 1286, 'nom': 'Toulouse-Lasbordes Airport', 'ville': 'Toulouse', 'pays': 'France', 'code': '', 'gps': ('43.58610153198242', '1.499169945716858')}, {'ref': 1287, 'nom': 'Millau-Larzac Airfield', 'ville': 'Millau', 'pays': 'France', 'code': '', 'gps': ('43.9893', '3.183')}, {'ref': 1288, 'nom': 'Graulhet-Montdragon Airport', 'ville': 'Graulhet', 'pays': 'France', 'code': '', 'gps': ('43.77109909057617', '2.0108299255371094')}, {'ref': 1289, 'nom': 'Rodez-Marcillac Airport', 'ville': 'Rodez', 'pays': 'France', 'code': 'RDZ', 'gps': ('44.407901763916016', '2.4826700687408447')}, {'ref': 1290, 'nom': 'Ussel-Thalamy Airport', 'ville': 'Ussel', 'pays': 'France', 'code': '', 'gps': ('45.534698486328125', '2.4238901138305664')}, {'ref': 1291, 'nom': 'Villeneuve-sur-Lot Airport', 'ville': 'Villeneuve-sur-lot', 'pays': 'France', 'code': '', 'gps': ('44.39690017700195', '0.7588890194892883')}, {'ref': 1292, 'nom': 'Royan-Médis Airport', 'ville': 'Royan', 'pays': 'France', 'code': 'RYN', 'gps': ('45.62810134887695', '-0.9725000262260437')}, {'ref': 1293, 'nom': 'Mimizan Airport', 'ville': 'Mimizan', 'pays': 'France', 'code': '', 'gps': ('44.145928', '-1.16432')}, {'ref': 1294, 'nom': \"Aire-sur-l'Adour Airport\", 'ville': \"Aire-sur-l'adour\", 'pays': 'France', 'code': '', 'gps': ('43.70940017700195', '-0.245278000831604')}, {'ref': 1295, 'nom': 'Montauban Airport', 'ville': 'Montauban', 'pays': 'France', 'code': 'XMW', 'gps': ('44.025699615478516', '1.3780399560928345')}, {'ref': 1296, 'nom': 'Auch-Lamothe Airport', 'ville': 'Auch', 'pays': 'France', 'code': '', 'gps': ('43.687801', '0.601667')}, {'ref': 1297, 'nom': 'Libourne-Artigues-de-Lussac Airport', 'ville': 'Libourne', 'pays': 'France', 'code': '', 'gps': ('44.982498', '-0.134722')}, {'ref': 1298, 'nom': 'Pamiers-Les Pujols Airport', 'ville': 'Pamiers', 'pays': 'France', 'code': '', 'gps': ('43.090599060058594', '1.69582998752594')}, {'ref': 1299, 'nom': 'Marmande-Virazeil Airport', 'ville': 'Marmande', 'pays': 'France', 'code': '', 'gps': ('44.4989013671875', '0.20051400363445282')}, {'ref': 1300, 'nom': 'Rochefort-Saint-Agnant (BA 721) Airport', 'ville': 'Rochefort', 'pays': 'France', 'code': 'RCO', 'gps': ('45.88779830932617', '-0.9830560088157654')}, {'ref': 1301, 'nom': 'Pontivy Airport', 'ville': 'Pontivy', 'pays': 'France', 'code': '', 'gps': ('48.05849838256836', '-2.92182993888855')}, {'ref': 1302, 'nom': 'Aubigny-sur-Nère Airport', 'ville': 'Aubigny-sur-nere', 'pays': 'France', 'code': '', 'gps': ('47.480556', '2.394167')}, {'ref': 1303, 'nom': 'Guiscriff Scaer Airport', 'ville': 'Guiscriff-scaer', 'pays': 'France', 'code': '', 'gps': ('48.0525016784668', '-3.664720058441162')}, {'ref': 1305, 'nom': 'Ancenis Airport', 'ville': 'Ancenis', 'pays': 'France', 'code': '', 'gps': ('47.40810012817383', '-1.1775000095367432')}, {'ref': 1306, 'nom': 'Brienne-le-Château Airport', 'ville': 'Brienne-le Chateau', 'pays': 'France', 'code': '', 'gps': ('48.4297981262207', '4.48222017288208')}, {'ref': 1307, 'nom': 'Colmar-Houssen Airport', 'ville': 'Colmar', 'pays': 'France', 'code': 'CMR', 'gps': ('48.109901428222656', '7.359010219573975')}, {'ref': 1308, 'nom': 'Beaune-Challanges Airport', 'ville': 'Beaune', 'pays': 'France', 'code': '', 'gps': ('47.005901', '4.89342')}, {'ref': 1309, 'nom': 'Dole-Tavaux Airport', 'ville': 'Dole', 'pays': 'France', 'code': 'DLE', 'gps': ('47.042686', '5.435063')}, {'ref': 1310, 'nom': 'Joigny Airport', 'ville': 'Joigny', 'pays': 'France', 'code': '', 'gps': ('47.9921989440918', '3.3922200202941895')}, {'ref': 1311, 'nom': 'Verdun-Le Rozelier Airfield', 'ville': 'Verdun', 'pays': 'France', 'code': '', 'gps': ('49.122398', '5.46905')}, {'ref': 1312, 'nom': 'Aubenas-Ardèche Méridional Airport', 'ville': 'Aubenas-vals-lanas', 'pays': 'France', 'code': 'OBS', 'gps': ('44.544203', '4.372192')}, {'ref': 1313, 'nom': 'Le Puy-Loudes Airport', 'ville': 'Le Puy', 'pays': 'France', 'code': 'LPY', 'gps': ('45.0806999206543', '3.762890100479126')}, {'ref': 1314, 'nom': 'Saint-Flour-Coltines Airport', 'ville': 'St.-flour', 'pays': 'France', 'code': '', 'gps': ('45.07640075683594', '2.99360990524292')}, {'ref': 1315, 'nom': 'Bourg-Ceyzériat Airport', 'ville': 'Bourg', 'pays': 'France', 'code': '', 'gps': ('46.20090103149414', '5.292029857635498')}, {'ref': 1316, 'nom': 'Villefranche-Tarare Airport', 'ville': 'Vilefrance', 'pays': 'France', 'code': '', 'gps': ('45.919983', '4.634931')}, {'ref': 1317, 'nom': 'Moulins-Montbeugny Airport', 'ville': 'Moulins', 'pays': 'France', 'code': '', 'gps': ('46.53459930419922', '3.423719882965088')}, {'ref': 1318, 'nom': 'Saint-Affrique-Belmont Airport', 'ville': 'St.-afrique-belmont', 'pays': 'France', 'code': '', 'gps': ('43.823299407958984', '2.7452800273895264')}, {'ref': 1319, 'nom': 'Cassagnes-Bégonhès Airport', 'ville': 'Cassagnes-beghones', 'pays': 'France', 'code': '', 'gps': ('44.177799224853516', '2.515000104904175')}, {'ref': 1320, 'nom': 'Metz-Nancy-Lorraine Airport', 'ville': 'Metz', 'pays': 'France', 'code': 'ETZ', 'gps': ('48.9821014404', '6.25131988525')}, {'ref': 1321, 'nom': 'Bastia-Poretta Airport', 'ville': 'Bastia', 'pays': 'France', 'code': 'BIA', 'gps': ('42.55270004272461', '9.48373031616211')}, {'ref': 1322, 'nom': 'Calvi-Sainte-Catherine Airport', 'ville': 'Calvi', 'pays': 'France', 'code': 'CLY', 'gps': ('42.5244444', '8.7930556')}, {'ref': 1323, 'nom': 'Figari Sud-Corse Airport', 'ville': 'Figari', 'pays': 'France', 'code': 'FSC', 'gps': ('41.5005989074707', '9.097780227661133')}, {'ref': 1324, 'nom': 'Ajaccio-Napoléon Bonaparte Airport', 'ville': 'Ajaccio', 'pays': 'France', 'code': 'AJA', 'gps': ('41.92359924316406', '8.8029203414917')}, {'ref': 1325, 'nom': 'Propriano Airport', 'ville': 'Propriano', 'pays': 'France', 'code': 'PRP', 'gps': ('41.66059875488281', '8.889749526977539')}, {'ref': 1326, 'nom': 'Solenzara (BA 126) Air Base', 'ville': 'Solenzara', 'pays': 'France', 'code': 'SOZ', 'gps': ('41.924400329589844', '9.406000137329102')}, {'ref': 1327, 'nom': 'Corte Airport', 'ville': 'Corte', 'pays': 'France', 'code': '', 'gps': ('42.29359817504883', '9.193059921264648')}, {'ref': 1328, 'nom': 'Auxerre-Branches Airport', 'ville': 'Auxerre', 'pays': 'France', 'code': 'AUF', 'gps': ('47.85020065307617', '3.497109889984131')}, {'ref': 1329, 'nom': 'Chambéry-Savoie Airport', 'ville': 'Chambery', 'pays': 'France', 'code': 'CMF', 'gps': ('45.638099670410156', '5.880229949951172')}, {'ref': 1330, 'nom': 'Clermont-Ferrand Auvergne Airport', 'ville': 'Clermont-Ferrand', 'pays': 'France', 'code': 'CFE', 'gps': ('45.7867012024', '3.1691699028')}, {'ref': 1331, 'nom': 'Bourges Airport', 'ville': 'Bourges', 'pays': 'France', 'code': 'BOU', 'gps': ('47.058101654052734', '2.3702800273895264')}, {'ref': 1332, 'nom': 'Chambéry-Challes-les-Eaux Airport', 'ville': 'Chambery', 'pays': 'France', 'code': '', 'gps': ('45.5611000061', '5.975759983060001')}, {'ref': 1333, 'nom': 'Chalon-Champforgeuil Airport', 'ville': 'Chalon', 'pays': 'France', 'code': '', 'gps': ('46.82609939575195', '4.817629814147949')}, {'ref': 1334, 'nom': 'Annemasse Airport', 'ville': 'Annemasse', 'pays': 'France', 'code': 'QNJ', 'gps': ('46.1920013428', '6.268390178680001')}, {'ref': 1335, 'nom': 'Lyon Saint-Exupéry Airport', 'ville': 'Lyon', 'pays': 'France', 'code': 'LYS', 'gps': ('45.725556', '5.081111')}, {'ref': 1336, 'nom': 'Mâcon-Charnay Airport', 'ville': 'Macon', 'pays': 'France', 'code': '', 'gps': ('46.295101', '4.79577')}, {'ref': 1337, 'nom': 'Saint-Yan Airport', 'ville': 'St.-yan', 'pays': 'France', 'code': 'SYT', 'gps': ('46.412498474121094', '4.0132598876953125')}, {'ref': 1338, 'nom': 'Roanne-Renaison Airport', 'ville': 'Roanne', 'pays': 'France', 'code': 'RNE', 'gps': ('46.05830001831055', '4.001389980316162')}, {'ref': 1339, 'nom': 'Annecy-Haute-Savoie-Mont Blanc Airport', 'ville': 'Annecy', 'pays': 'France', 'code': 'NCY', 'gps': ('45.9308333', '6.1063889')}, {'ref': 1340, 'nom': 'Grenoble-Isère Airport', 'ville': 'Grenoble', 'pays': 'France', 'code': 'GNB', 'gps': ('45.36289978027344', '5.329370021820068')}, {'ref': 1341, 'nom': 'Montluçon-Domérat Airport', 'ville': 'Montlucon', 'pays': 'France', 'code': '', 'gps': ('46.352501', '2.57049')}, {'ref': 1342, 'nom': 'Valence-Chabeuil Airport', 'ville': 'Valence', 'pays': 'France', 'code': 'VAF', 'gps': ('44.9216', '4.9699')}, {'ref': 1343, 'nom': 'Vichy-Charmeil Airport', 'ville': 'Vichy', 'pays': 'France', 'code': 'VHY', 'gps': ('46.169700622558594', '3.4037399291992188')}, {'ref': 1344, 'nom': 'Aurillac Airport', 'ville': 'Aurillac', 'pays': 'France', 'code': 'AUR', 'gps': ('44.89139938354492', '2.4219400882720947')}, {'ref': 1345, 'nom': 'Châteauroux-Déols \"\"Marcel Dassault\"\" Airport', 'ville': 'Chateauroux', 'pays': 'France', 'code': 'CHR', 'gps': ('46.860278', '1.721111')}, {'ref': 1346, 'nom': 'Lyon-Bron Airport', 'ville': 'Lyon', 'pays': 'France', 'code': 'LYN', 'gps': ('45.72719955444336', '4.944270133972168')}, {'ref': 1347, 'nom': 'Aix-en-Provence (BA 114) Airport', 'ville': 'Aix-les-milles', 'pays': 'France', 'code': '', 'gps': ('43.5056', '5.36778')}, {'ref': 1348, 'nom': 'Le Luc-Le Cannet Airport', 'ville': 'Le Luc', 'pays': 'France', 'code': '', 'gps': ('43.384700775146484', '6.387139797210693')}, {'ref': 1349, 'nom': 'Cannes-Mandelieu Airport', 'ville': 'Cannes', 'pays': 'France', 'code': 'CEQ', 'gps': ('43.542', '6.95348')}, {'ref': 1350, 'nom': 'Saint-Étienne-Bouthéon Airport', 'ville': 'St-Etienne', 'pays': 'France', 'code': 'EBU', 'gps': ('45.54059982299805', '4.296390056610107')}, {'ref': 1351, 'nom': 'Istres Le Tubé/Istres Air Base (BA 125) Airport', 'ville': 'Istres', 'pays': 'France', 'code': '', 'gps': ('43.522701', '4.92384')}, {'ref': 1352, 'nom': 'Carcassonne Airport', 'ville': 'Carcassonne', 'pays': 'France', 'code': 'CCF', 'gps': ('43.215999603271484', '2.3063199520111084')}, {'ref': 1353, 'nom': 'Marseille Provence Airport', 'ville': 'Marseille', 'pays': 'France', 'code': 'MRS', 'gps': ('43.439271922', '5.22142410278')}, {'ref': 1354, 'nom': \"Nice-Côte d'Azur Airport\", 'ville': 'Nice', 'pays': 'France', 'code': 'NCE', 'gps': ('43.6584014893', '7.215869903560001')}, {'ref': 1355, 'nom': 'Orange-Caritat (BA 115) Air Base', 'ville': 'Orange', 'pays': 'France', 'code': 'XOG', 'gps': ('44.140499114990234', '4.866720199584961')}, {'ref': 1356, 'nom': 'Perpignan-Rivesaltes (Llabanère) Airport', 'ville': 'Perpignan', 'pays': 'France', 'code': 'PGF', 'gps': ('42.74039840698242', '2.8706700801849365')}, {'ref': 1357, 'nom': 'Le Castellet Airport', 'ville': 'Le Castellet', 'pays': 'France', 'code': 'CTT', 'gps': ('43.252498626708984', '5.785190105438232')}, {'ref': 1358, 'nom': 'Alès-Deaux Airport', 'ville': 'Ales', 'pays': 'France', 'code': '', 'gps': ('44.069698', '4.14212')}, {'ref': 1359, 'nom': 'Montpellier-Méditerranée Airport', 'ville': 'Montpellier', 'pays': 'France', 'code': 'MPL', 'gps': ('43.57619857788086', '3.96301007270813')}, {'ref': 1360, 'nom': 'Béziers-Vias Airport', 'ville': 'Beziers', 'pays': 'France', 'code': 'BZR', 'gps': ('43.32350158691406', '3.3538999557495117')}, {'ref': 1361, 'nom': 'Avignon-Caumont Airport', 'ville': 'Avignon', 'pays': 'France', 'code': 'AVN', 'gps': ('43.90729904174805', '4.901830196380615')}, {'ref': 1362, 'nom': 'Salon-de-Provence (BA 701) Air Base', 'ville': 'Salon', 'pays': 'France', 'code': '', 'gps': ('43.60639953613281', '5.109250068664551')}, {'ref': 1363, 'nom': 'Lézignan-Corbières Airfield', 'ville': 'Lezignan-corbieres', 'pays': 'France', 'code': '', 'gps': ('43.1758', '2.73417')}, {'ref': 1364, 'nom': 'Mende-Brenoux Airfield', 'ville': 'Mende', 'pays': 'France', 'code': 'MEN', 'gps': ('44.502102', '3.53282')}, {'ref': 1365, 'nom': 'Carpentras Airport', 'ville': 'Carpentras', 'pays': 'France', 'code': '', 'gps': ('44.02980041503906', '5.078060150146484')}, {'ref': 1366, 'nom': 'Avord (BA 702) Air Base', 'ville': 'Avord', 'pays': 'France', 'code': '', 'gps': ('47.053299', '2.6325')}, {'ref': 1367, 'nom': 'Paris Beauvais Tillé Airport', 'ville': 'Beauvais', 'pays': 'France', 'code': 'BVA', 'gps': ('49.45439910888672', '2.1127800941467285')}, {'ref': 1368, 'nom': 'Châteaudun (BA 279) Air Base', 'ville': 'Chateaudun', 'pays': 'France', 'code': '', 'gps': ('48.058102', '1.37662')}, {'ref': 1369, 'nom': 'Saumur-Saint-Florent Airport', 'ville': 'Saumur', 'pays': 'France', 'code': '', 'gps': ('47.256802', '-0.115142')}, {'ref': 1370, 'nom': 'Évreux-Fauville (BA 105) Air Base', 'ville': 'Evreux', 'pays': 'France', 'code': 'EVX', 'gps': ('49.02870178222656', '1.2198599576950073')}, {'ref': 1371, 'nom': 'Le Havre Octeville Airport', 'ville': 'Le Havre', 'pays': 'France', 'code': 'LEH', 'gps': ('49.53390121459961', '0.08805599808692932')}, {'ref': 1372, 'nom': 'Abbeville', 'ville': 'Abbeville', 'pays': 'France', 'code': 'XAB', 'gps': ('50.143501', '1.831891')}, {'ref': 1373, 'nom': 'Orléans-Bricy (BA 123) Air Base', 'ville': 'Orleans', 'pays': 'France', 'code': 'ORE', 'gps': ('47.9878005981', '1.7605600357100002')}, {'ref': 1374, 'nom': 'Châlons-Vatry Airport', 'ville': 'Chalons', 'pays': 'France', 'code': 'XCR', 'gps': ('48.7733333333', '4.206111111')}, {'ref': 1375, 'nom': 'Rouen Airport', 'ville': 'Rouen', 'pays': 'France', 'code': 'URO', 'gps': ('49.38420104980469', '1.1748000383377075')}, {'ref': 1376, 'nom': 'Tours-Val-de-Loire Airport', 'ville': 'Tours', 'pays': 'France', 'code': 'TUF', 'gps': ('47.4322013855', '0.727605998516')}, {'ref': 1377, 'nom': 'Cholet Le Pontreau Airport', 'ville': 'Cholet', 'pays': 'France', 'code': 'CET', 'gps': ('47.08209991455078', '-0.8770639896392822')}, {'ref': 1378, 'nom': 'Laval-Entrammes Airport', 'ville': 'Laval', 'pays': 'France', 'code': 'LVA', 'gps': ('48.03139877319336', '-0.7429860234260559')}, {'ref': 1379, 'nom': \"Orléans-Saint-Denis-de-l'Hôtel Airport\", 'ville': 'Orleans', 'pays': 'France', 'code': '', 'gps': ('47.8969', '2.16333')}, {'ref': 1380, 'nom': 'Paris-Le Bourget Airport', 'ville': 'Paris', 'pays': 'France', 'code': 'LBG', 'gps': ('48.969398498535156', '2.441390037536621')}, {'ref': 1381, 'nom': 'Creil Air Base', 'ville': 'Creil', 'pays': 'France', 'code': 'CSF', 'gps': ('49.253501892089844', '2.5191400051116943')}, {'ref': 1382, 'nom': 'Charles de Gaulle International Airport', 'ville': 'Paris', 'pays': 'France', 'code': 'CDG', 'gps': ('49.012798', '2.55')}, {'ref': 1383, 'nom': 'Coulommiers-Voisins Airport', 'ville': 'Coulommiers', 'pays': 'France', 'code': '', 'gps': ('48.83769989013672', '3.016119956970215')}, {'ref': 1384, 'nom': 'Melun-Villaroche Air Base', 'ville': 'Melun', 'pays': 'France', 'code': '', 'gps': ('48.604698181152344', '2.6711199283599854')}, {'ref': 1385, 'nom': 'Toussus-le-Noble Airport', 'ville': 'Toussous-le-noble', 'pays': 'France', 'code': 'TNF', 'gps': ('48.75189971923828', '2.1061899662017822')}, {'ref': 1386, 'nom': 'Paris-Orly Airport', 'ville': 'Paris', 'pays': 'France', 'code': 'ORY', 'gps': ('48.7233333', '2.3794444')}, {'ref': 1387, 'nom': 'Pontoise - Cormeilles-en-Vexin Airport', 'ville': 'Pontoise', 'pays': 'France', 'code': 'POX', 'gps': ('49.096667', '2.040833')}, {'ref': 1388, 'nom': 'Villacoublay-Vélizy (BA 107) Air Base', 'ville': 'Villacoublay', 'pays': 'France', 'code': 'VIY', 'gps': ('48.7741667', '2.1916667')}, {'ref': 1389, 'nom': 'Reims-Prunay Airport', 'ville': 'Reims', 'pays': 'France', 'code': '', 'gps': ('49.20869827270508', '4.156579971313477')}, {'ref': 1390, 'nom': 'Troyes-Barberey Airport', 'ville': 'Troyes', 'pays': 'France', 'code': '', 'gps': ('48.322102', '4.0167')}, {'ref': 1391, 'nom': 'Lunéville-Croismare Airport', 'ville': 'Luneville', 'pays': 'France', 'code': '', 'gps': ('48.593299865722656', '6.543459892272949')}, {'ref': 1392, 'nom': 'Étain-Rouvres Air Base', 'ville': 'Etain', 'pays': 'France', 'code': '', 'gps': ('49.226898193359375', '5.672220230102539')}, {'ref': 1393, 'nom': 'Autun-Bellevue Airport', 'ville': 'Autun', 'pays': 'France', 'code': '', 'gps': ('46.96730041503906', '4.260570049285889')}, {'ref': 1394, 'nom': 'Nevers-Fourchambault Airport', 'ville': 'Nevers', 'pays': 'France', 'code': 'NVS', 'gps': ('47.002601623535156', '3.1133298873901367')}, {'ref': 1395, 'nom': 'Cambrai-Épinoy (BA 103) Air Base', 'ville': 'Cambrai', 'pays': 'France', 'code': '', 'gps': ('50.221802', '3.15424')}, {'ref': 1396, 'nom': 'Maubeuge-Élesmes Airport', 'ville': 'Maubeuge', 'pays': 'France', 'code': 'XME', 'gps': ('50.31050109863281', '4.033120155334473')}, {'ref': 1397, 'nom': 'Besançon-La Vèze Airport', 'ville': 'Besancon-la-veze', 'pays': 'France', 'code': '', 'gps': ('47.2066', '6.083681')}, {'ref': 1398, 'nom': 'Phalsbourg-Bourscheid Air Base', 'ville': 'Phalsbourg', 'pays': 'France', 'code': '', 'gps': ('48.7680556', '7.205')}, {'ref': 1399, 'nom': 'Lille-Lesquin Airport', 'ville': 'Lille', 'pays': 'France', 'code': 'LIL', 'gps': ('50.563332', '3.086886')}, {'ref': 1400, 'nom': 'Merville-Calonne Airport', 'ville': 'Merville', 'pays': 'France', 'code': 'HZB', 'gps': ('50.61840057373047', '2.642240047454834')}, {'ref': 1401, 'nom': 'Charleville-Mézières Airport', 'ville': 'Charleville', 'pays': 'France', 'code': 'XCZ', 'gps': ('49.78390121459961', '4.647079944610596')}, {'ref': 1402, 'nom': 'Vesoul-Frotey Airport', 'ville': 'Vesoul-frotey', 'pays': 'France', 'code': '', 'gps': ('47.6376', '6.20392')}, {'ref': 1403, 'nom': 'Brest Bretagne Airport', 'ville': 'Brest', 'pays': 'France', 'code': 'BES', 'gps': ('48.447898864746094', '-4.418540000915527')}, {'ref': 1404, 'nom': 'Cherbourg-Maupertus Airport', 'ville': 'Cherbourg', 'pays': 'France', 'code': 'CER', 'gps': ('49.65010070800781', '-1.4702800512313843')}, {'ref': 1405, 'nom': 'Dinard-Pleurtuit-Saint-Malo Airport', 'ville': 'Dinard', 'pays': 'France', 'code': 'DNR', 'gps': ('48.58769989013672', '-2.0799601078033447')}, {'ref': 1406, 'nom': 'La Baule-Escoublac Airport', 'ville': 'La Baule', 'pays': 'France', 'code': 'LBY', 'gps': ('47.289398193359375', '-2.3463900089263916')}, {'ref': 1407, 'nom': 'Granville Airport', 'ville': 'Granville', 'pays': 'France', 'code': 'GFR', 'gps': ('48.88309860229492', '-1.564170002937317')}, {'ref': 1408, 'nom': 'Deauville-Saint-Gatien Airport', 'ville': 'Deauville', 'pays': 'France', 'code': 'DOL', 'gps': ('49.3652992249', '0.154305994511')}, {'ref': 1409, 'nom': 'Lorient South Brittany (Bretagne Sud) Airport', 'ville': 'Lorient', 'pays': 'France', 'code': 'LRT', 'gps': ('47.76060104370117', '-3.440000057220459')}, {'ref': 1410, 'nom': 'La Roche-sur-Yon Airport', 'ville': 'La Roche-sur-yon', 'pays': 'France', 'code': 'EDM', 'gps': ('46.701900482177734', '-1.3786300420761108')}, {'ref': 1411, 'nom': 'Landivisiau Air Base', 'ville': 'Landivisiau', 'pays': 'France', 'code': 'LDV', 'gps': ('48.53030014038086', '-4.151639938354492')}, {'ref': 1412, 'nom': 'Caen-Carpiquet Airport', 'ville': 'Caen', 'pays': 'France', 'code': 'CFR', 'gps': ('49.173301696777344', '-0.44999998807907104')}, {'ref': 1413, 'nom': 'Lanvéoc-Poulmic Air Base', 'ville': 'Lanvedoc', 'pays': 'France', 'code': '', 'gps': ('48.281700134277344', '-4.4450201988220215')}, {'ref': 1414, 'nom': 'Le Mans-Arnage Airport', 'ville': 'Le Mans', 'pays': 'France', 'code': 'LME', 'gps': ('47.94860076904297', '0.20166699588298798')}, {'ref': 1415, 'nom': 'Rennes-Saint-Jacques Airport', 'ville': 'Rennes', 'pays': 'France', 'code': 'RNS', 'gps': ('48.069499969499994', '-1.73478996754')}, {'ref': 1416, 'nom': 'Lannion-Côte de Granit Airport', 'ville': 'Lannion', 'pays': 'France', 'code': 'LAI', 'gps': ('48.754398', '-3.47166')}, {'ref': 1417, 'nom': 'Quimper-Cornouaille Airport', 'ville': 'Quimper', 'pays': 'France', 'code': 'UIP', 'gps': ('47.974998474121094', '-4.167789936065674')}, {'ref': 1418, 'nom': 'Nantes Atlantique Airport', 'ville': 'Nantes', 'pays': 'France', 'code': 'NTE', 'gps': ('47.153198242200006', '-1.61073005199')}, {'ref': 1419, 'nom': 'Saint-Brieuc-Armor Airport', 'ville': 'St.-brieuc Armor', 'pays': 'France', 'code': 'SBK', 'gps': ('48.5378', '-2.85444')}, {'ref': 1420, 'nom': 'Morlaix-Ploujean Airport', 'ville': 'Morlaix', 'pays': 'France', 'code': 'MXN', 'gps': ('48.6031990051', '-3.81577992439')}, {'ref': 1421, 'nom': 'Vannes-Meucon Airport', 'ville': 'Vannes', 'pays': 'France', 'code': 'VNE', 'gps': ('47.72330093383789', '-2.718559980392456')}, {'ref': 1422, 'nom': 'Saint-Nazaire-Montoir Airport', 'ville': 'St.-nazaire', 'pays': 'France', 'code': 'SNR', 'gps': ('47.3105556', '-2.1566667')}, {'ref': 1423, 'nom': 'EuroAirport Basel-Mulhouse-Freiburg Airport', 'ville': 'Mulhouse', 'pays': 'France', 'code': 'BSL', 'gps': ('47.59', '7.5291667')}, {'ref': 1424, 'nom': 'Colmar-Meyenheim Air Base', 'ville': 'Colmar', 'pays': 'France', 'code': '', 'gps': ('47.922000885', '7.39967012405')}, {'ref': 1425, 'nom': 'Dijon-Bourgogne Airport', 'ville': 'Dijon', 'pays': 'France', 'code': 'DIJ', 'gps': ('47.268902', '5.09')}, {'ref': 1426, 'nom': 'Metz-Frescaty (BA 128) Air Base', 'ville': 'Metz', 'pays': 'France', 'code': 'MZM', 'gps': ('49.07170104980469', '6.131669998168945')}, {'ref': 1427, 'nom': 'Épinal-Mirecourt Airport', 'ville': 'Epinal', 'pays': 'France', 'code': 'EPL', 'gps': ('48.325001', '6.06998')}, {'ref': 1428, 'nom': 'Haguenau Airport', 'ville': 'Haguenau', 'pays': 'France', 'code': '', 'gps': ('48.7943000793', '7.81760978699')}, {'ref': 1429, 'nom': 'Saint-Dizier-Robinson (BA 113) Air Base', 'ville': 'St.-dizier', 'pays': 'France', 'code': '', 'gps': ('48.63600158691406', '4.899419784545898')}, {'ref': 1430, 'nom': 'Montbéliard-Courcelles Airfield', 'ville': 'Montbeliard', 'pays': 'France', 'code': '', 'gps': ('47.487', '6.79054')}, {'ref': 1431, 'nom': 'Nancy-Essey Airport', 'ville': 'Nancy', 'pays': 'France', 'code': 'ENC', 'gps': ('48.692100524902344', '6.230460166931152')}, {'ref': 1432, 'nom': 'Nancy-Ochey (BA 133) Air Base', 'ville': 'Nancy', 'pays': 'France', 'code': '', 'gps': ('48.583099365234375', '5.954999923706055')}, {'ref': 1433, 'nom': 'Pontarlier Airport', 'ville': 'Pontarlier', 'pays': 'France', 'code': '', 'gps': ('46.90399932861328', '6.3273701667785645')}, {'ref': 1434, 'nom': 'Reims-Champagne (BA 112) Air Base', 'ville': 'Reims', 'pays': 'France', 'code': 'RHE', 'gps': ('49.310001', '4.05')}, {'ref': 1435, 'nom': 'Strasbourg Airport', 'ville': 'Strasbourg', 'pays': 'France', 'code': 'SXB', 'gps': ('48.538299560546875', '7.628230094909668')}, {'ref': 1436, 'nom': 'Luxeuil-Saint-Sauveur (BA 116) Air Base', 'ville': 'Luxeuil', 'pays': 'France', 'code': '', 'gps': ('47.7830556', '6.36416667')}, {'ref': 1437, 'nom': 'Cuers-Pierrefeu Airport', 'ville': 'Cuers', 'pays': 'France', 'code': '', 'gps': ('43.247798919677734', '6.126699924468994')}, {'ref': 1438, 'nom': 'Toulon-Hyères Airport', 'ville': 'Hyeres', 'pays': 'France', 'code': 'TLN', 'gps': ('43.0973014832', '6.14602994919')}, {'ref': 1439, 'nom': 'Nîmes-Arles-Camargue Airport', 'ville': 'Nimes', 'pays': 'France', 'code': 'FNI', 'gps': ('43.75740051269531', '4.4163498878479')}, {'ref': 1442, 'nom': 'Ambérieu Air Base (BA 278)', 'ville': 'Amberieu', 'pays': 'France', 'code': '', 'gps': ('45.987301', '5.32844')}, {'ref': 1443, 'nom': 'Damblain Airport', 'ville': 'Damblain', 'pays': 'France', 'code': '', 'gps': ('48.086299896240234', '5.664060115814209')}, {'ref': 4303, 'nom': 'Enghien Moisselles Airfield', 'ville': 'Enghien-moisselles', 'pays': 'France', 'code': '', 'gps': ('49.046398', '2.35306')}, {'ref': 5782, 'nom': \"Île d'Yeu Airport\", 'ville': \"Île d'Yeu\", 'pays': 'France', 'code': 'IDY', 'gps': ('46.71860122680664', '-2.3911099433898926')}, {'ref': 5783, 'nom': 'Angers-Loire Airport', 'ville': 'Angers/Marcé', 'pays': 'France', 'code': 'ANE', 'gps': ('47.560299', '-0.312222')}, {'ref': 5786, 'nom': 'La Môle Airport', 'ville': 'La Môle', 'pays': 'France', 'code': 'LTT', 'gps': ('43.205399', '6.482')}, {'ref': 6460, 'nom': 'Gustaf III Airport', 'ville': 'Gustavia', 'pays': 'France', 'code': 'SBH', 'gps': ('17.904399871826172', '-62.84360122680664')}, {'ref': 6479, 'nom': 'Courchevel Airport', 'ville': 'Courcheval', 'pays': 'France', 'code': 'CVF', 'gps': ('45.39670181274414', '6.6347198486328125')}, {'ref': 6487, 'nom': 'Andernos Les Bains Airport', 'ville': 'Andernos-Les-Bains', 'pays': 'France', 'code': '', 'gps': ('44.7561', '-1.06333')}, {'ref': 6493, 'nom': 'La Rochelle-Île de Ré Airport', 'ville': 'La Rochelle', 'pays': 'France', 'code': 'LRH', 'gps': ('46.17919921875', '-1.1952799558639526')}, {'ref': 7461, 'nom': 'Ouessant Airport', 'ville': 'Ouessant', 'pays': 'France', 'code': '', 'gps': ('48.463199615478516', '-5.06358003616333')}, {'ref': 7703, 'nom': 'Fréjus Airport', 'ville': 'Frejus', 'pays': 'France', 'code': 'FRJ', 'gps': ('43.4175', '6.7357')}, {'ref': 7838, 'nom': \"Saint-Cyr-l'École Airport\", 'ville': 'Saint-Cyr', 'pays': 'France', 'code': '', 'gps': ('48.8114013671875', '2.0747199058532715')}, {'ref': 7892, 'nom': 'Strasbourg Neuhof Airfield', 'ville': 'Strasbourg Neudorf', 'pays': 'France', 'code': '', 'gps': ('48.554401', '7.77806')}, {'ref': 8079, 'nom': 'Megève Airport', 'ville': 'Verdun', 'pays': 'France', 'code': 'MVV', 'gps': ('45.82080078125', '6.652219772338867')}, {'ref': 8080, 'nom': 'Méribel Altiport', 'ville': 'Ajaccio', 'pays': 'France', 'code': 'MFX', 'gps': ('45.407003', '6.577942')}, {'ref': 8609, 'nom': 'Pont Sur Yonne Airfield', 'ville': 'Pont Sur Yonne', 'pays': 'France', 'code': '', 'gps': ('48.289172', '3.247912')}, {'ref': 8610, 'nom': 'St Florentin Cheu Airfield', 'ville': 'St Florentin Cheu', 'pays': 'France', 'code': '', 'gps': ('47.98019', '3.775583')}, {'ref': 8611, 'nom': 'Saulieu Liernais Airfield', 'ville': 'Saulieu', 'pays': 'France', 'code': '', 'gps': ('47.239399', '4.26583')}, {'ref': 8622, 'nom': 'Meaux Esbly Airport', 'ville': 'Meaux', 'pays': 'France', 'code': '', 'gps': ('48.927799224853516', '2.835279941558838')}, {'ref': 8623, 'nom': 'Château-Thierry - Belleau Airfield', 'ville': 'Chateau-Thierry', 'pays': 'France', 'code': '', 'gps': ('49.0672', '3.35694')}, {'ref': 9388, 'nom': 'Fontaine Airport', 'ville': 'Belfort', 'pays': 'France', 'code': 'BOR', 'gps': ('47.655601501465', '7.0108299255371')}, {'ref': 9400, 'nom': 'La Ferté Alais Airfield', 'ville': 'La Ferte Alais', 'pays': 'France', 'code': '', 'gps': ('48.498652', '2.338867')}, {'ref': 9481, 'nom': 'Guatuso Airport', 'ville': 'Marigot', 'pays': 'France', 'code': '', 'gps': ('10.683333396911621', '-84.83333587646484')}, {'ref': 10089, 'nom': 'Lille/Marcq-en-Baroeul Airport', 'ville': 'Marcq En Baroeul', 'pays': 'France', 'code': '', 'gps': ('50.687198638916016', '3.0755600929260254')}, {'ref': 10173, 'nom': 'Digby (General Hospital) Heliport', 'ville': 'Tremblay-en-France', 'pays': 'France', 'code': '', 'gps': ('44.6161003112793', '-65.76190185546875')}, {'ref': 11049, 'nom': \"La Grand'combe Airport\", 'ville': \"La Grand'Combe\", 'pays': 'France', 'code': '', 'gps': ('44.24440002441406', '4.0122199058532715')}, {'ref': 11170, 'nom': 'Lure Malbouhans Air Base', 'ville': 'Malbouhans', 'pays': 'France', 'code': '', 'gps': ('47.7047', '6.54583')}, {'ref': 11881, 'nom': 'Blois-Le Breuil Airport', 'ville': 'Blois/Le Breuil', 'pays': 'France', 'code': '', 'gps': ('47.678502', '1.20884')}, {'ref': 12640, 'nom': 'Lognes Emerainville Airport', 'ville': 'Lognes', 'pays': 'France', 'code': '', 'gps': ('48.821028', '2.625967')}, {'ref': 13411, 'nom': \"St Pierre d'Oléron Airfield\", 'ville': \"Saint Pierre d'Oleron\", 'pays': 'France', 'code': '', 'gps': ('45.959202', '-1.31611')}, {'ref': 13412, 'nom': 'Semur En Auxois Airfield', 'ville': 'Semur en Auxois', 'pays': 'France', 'code': '', 'gps': ('47.481899', '4.34417')}]\n"
     ]
    }
   ],
   "source": [
    "country='France'\n",
    "res=[e for e in airports if e[\"pays\"]==country]\n",
    "print(res)"
   ]
  },
  {
   "cell_type": "markdown",
   "metadata": {},
   "source": [
    "4. Ecrire la fonction `infos(airports,ville)`.\n",
    "\n",
    "Elle prend en paramètres la liste des dictionnaires de données extraites et une chaîne de caractères(le nom d'une ville). Elle renvoie les informations du ou des aéroports de cette ville dans une liste de dictionnaires:"
   ]
  },
  {
   "cell_type": "code",
   "execution_count": 3,
   "metadata": {},
   "outputs": [
    {
     "name": "stdout",
     "output_type": "stream",
     "text": [
      "[{'ref': 1354, 'nom': \"Nice-Côte d'Azur Airport\", 'ville': 'Nice', 'pays': 'France', 'code': 'NCE', 'gps': ('43.6584014893', '7.215869903560001')}]\n"
     ]
    }
   ],
   "source": [
    "def infos(airports,ville):\n",
    "    res=[]\n",
    "    for e in airports:\n",
    "        if e['ville']==ville:\n",
    "            res.append(e)    \n",
    "    return res\n",
    "\n",
    "print(infos(airports,'Nice'))"
   ]
  },
  {
   "cell_type": "markdown",
   "metadata": {},
   "source": [
    "5. Entrer la suite d'instructions permettant de récupérer les coordonnées gps X et Y de l'aeroport d'Orly.\n",
    "Aide: Le code de l'aeroport est ORY."
   ]
  },
  {
   "cell_type": "code",
   "execution_count": 26,
   "metadata": {},
   "outputs": [
    {
     "name": "stdout",
     "output_type": "stream",
     "text": [
      "X=  48.7233333\n",
      "Y=  2.3794444\n"
     ]
    }
   ],
   "source": [
    "for e in airports:\n",
    "    if e['code']=='ORY':\n",
    "        X=e['gps'][0]\n",
    "        Y=e['gps'][1]\n",
    "print(\"X= \",X)\n",
    "print(\"Y= \",Y)"
   ]
  },
  {
   "cell_type": "markdown",
   "metadata": {},
   "source": [
    "<h3>      \n",
    "   V - CONCLUSION\n",
    "</h3>"
   ]
  },
  {
   "cell_type": "markdown",
   "metadata": {},
   "source": [
    "Les types de données construites étudiés sont les listes, les tuples, les dictionnaires et les ensembles. Il est généralement moins évident de choisir quel type de données utiliser ici car on a tendance à penser “qu’ils se ressemblent tous”.\n",
    "\n",
    "Voici donc un résumé des grandes caractéristiques de ces types et se qui les différencie :\n",
    "\n",
    "- Les listes sont des collections d’éléments ordonnés et altérables qui peuvent contenir plusieurs fois la même valeur ;\n",
    "- Les tuples sont des collections d’éléments ordonnés et immuables qui peuvent contenir plusieurs fois la même valeur ;\n",
    "- Les dictionnaires sont des collection d’éléments non ordonnés mais indexés avec des clefs de notre choix et altérables qui n’acceptent pas de contenir plusieurs fois le même élément ;\n",
    "- Les ensembles sont des collections d’éléments non ordonnées, non indexés et non modifiables qui n’acceptent pas de contenir plusieurs fois le même élément."
   ]
  }
 ],
 "metadata": {
  "kernelspec": {
   "display_name": "Python 3",
   "language": "python",
   "name": "python3"
  },
  "language_info": {
   "codemirror_mode": {
    "name": "ipython",
    "version": 3
   },
   "file_extension": ".py",
   "mimetype": "text/x-python",
   "name": "python",
   "nbconvert_exporter": "python",
   "pygments_lexer": "ipython3",
   "version": "3.6.3"
  }
 },
 "nbformat": 4,
 "nbformat_minor": 2
}
