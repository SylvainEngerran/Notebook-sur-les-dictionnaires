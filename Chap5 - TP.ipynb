{
 "cells": [
  {
   "cell_type": "markdown",
   "metadata": {},
   "source": [
    "<h1 style = \"text-align : center ; color : black ; border-style : solid none ; padding : 15px ; margin-right : 5px\">      \n",
    "    TP: LES DICTIONNAIRES    \n",
    "</h1>"
   ]
  },
  {
   "cell_type": "markdown",
   "metadata": {},
   "source": [
    "<h3>      \n",
    "   I-Les tuples (ou P-uplets)\n",
    "</h3>"
   ]
  },
  {
   "cell_type": "markdown",
   "metadata": {},
   "source": [
    "Python propose un type de données appelé tuple, qui est assez semblable à une liste mais qui, comme les chaînes, n’est pas modifiable. Du point de vue de la syntaxe, un tuple est une collection d’éléments séparés par des virgules :"
   ]
  },
  {
   "cell_type": "code",
   "execution_count": null,
   "metadata": {},
   "outputs": [],
   "source": [
    "#Exécuter le code ci-dessous\n",
    "tup1 = 1,2,3\n",
    "tup2 = (6,7)\n",
    "tup3 = 'abc','def'\n",
    "tup4 = ('a',1,'b',2)\n",
    "print(tup1,type(tup1))\n",
    "print(tup2,type(tup2))\n",
    "print(tup3,type(tup3))\n",
    "print(tup4,type(tup4))"
   ]
  },
  {
   "cell_type": "markdown",
   "metadata": {},
   "source": [
    "A retenir :\n",
    "   *  De simples virgules suffisent à définir un tuple mais pour la lisibilité du code, il est préférable de l'enfermer dans des parenthèses."
   ]
  },
  {
   "cell_type": "markdown",
   "metadata": {},
   "source": [
    "**Opérations sur les tuples:**"
   ]
  },
  {
   "cell_type": "code",
   "execution_count": null,
   "metadata": {},
   "outputs": [],
   "source": [
    "#affectations\n",
    "t= 7,8,9\n",
    "a,b,c = t\n",
    "print(a)"
   ]
  },
  {
   "cell_type": "code",
   "execution_count": null,
   "metadata": {},
   "outputs": [],
   "source": [
    "# opérateurs + et * : concanténation et répétition\n",
    "t1=  (3,2,1)\n",
    "t2 = (6,5,4)\n",
    "t3 = 2*t1+t2\n",
    "print(t3)"
   ]
  },
  {
   "cell_type": "code",
   "execution_count": null,
   "metadata": {},
   "outputs": [],
   "source": [
    "# Accéder aux éléments\n",
    "t4 = (2,4)\n",
    "print(t4[0])"
   ]
  },
  {
   "cell_type": "code",
   "execution_count": null,
   "metadata": {},
   "outputs": [],
   "source": [
    "# longueur d'un tuple\n",
    "print(len(t3))"
   ]
  },
  {
   "cell_type": "code",
   "execution_count": null,
   "metadata": {},
   "outputs": [],
   "source": [
    "# Parcours d'un tuple\n",
    "t5 = (0,1,2,3,4,5,6,7,8,9)\n",
    "for e in t5 :\n",
    "    print(e+1, end=' ')"
   ]
  },
  {
   "cell_type": "code",
   "execution_count": null,
   "metadata": {},
   "outputs": [],
   "source": [
    "# test in \n",
    "b = 3 in (2,4,6)\n",
    "print(b)"
   ]
  },
  {
   "cell_type": "code",
   "execution_count": null,
   "metadata": {},
   "outputs": [],
   "source": [
    "# les tuples ne sont pas des listes\n",
    "t6 = (2,4,6,8)\n",
    "t6.append(10)"
   ]
  },
  {
   "cell_type": "code",
   "execution_count": null,
   "metadata": {},
   "outputs": [],
   "source": [
    "#Ajouter un élément à un tuple\n",
    "t7 = 1,2,3,4,5\n",
    "t7 = t7 + (6,) # ne pas oublier la virgule et les parenthèses\n",
    "print(t7)"
   ]
  },
  {
   "cell_type": "markdown",
   "metadata": {},
   "source": [
    "A retenir :\n",
    "* Les opérateurs de concaténation `+` et de multiplication `*` donnent les mêmes résultats que pour les chaînes et les listes.\n",
    "* On accède aux éléments d'un tuple comme avec les chaînes et les listes.\n",
    "* On peut déterminer la taille d’un tuple à l’aide de la fonction `len()`.\n",
    "* On peut le parcourir à l’aide d’une boucle `for`, utiliser l’instruction `in` pour savoir si un élément donné en fait partie, exactement comme pour une liste ou pour une chaîne.\n",
    "* Les tuples ne sont pas modifiables et on ne peut pas utiliser avec eux  ni la méthode `.append()`ni l'instruction `del()`.\n",
    "* Les tuples sont moins souples que les listes mais c'est aussi leur force. On est sûr que leur contenu ne sera pas modifié par erreur. De plus ils sont beaucoup moins gourmands en ressources et sont éxécutés plus rapidement."
   ]
  },
  {
   "cell_type": "markdown",
   "metadata": {},
   "source": [
    "**Exercice 1:**\n",
    "Ecrire la fonction `reverse(t)` qui prend en paramètre un tuple de trois valeurs et qui renvoie un tuple contenant les 3 valeurs dans l'ordre inverse.\n",
    "\n",
    "Ainsi `reverse(1,2,3)` renvoie `(3,2,1)`"
   ]
  },
  {
   "cell_type": "code",
   "execution_count": null,
   "metadata": {},
   "outputs": [],
   "source": [
    "#votre code ici"
   ]
  },
  {
   "cell_type": "code",
   "execution_count": null,
   "metadata": {},
   "outputs": [],
   "source": [
    "tuple=(7,8,9)\n",
    "print(reverse(tuple))"
   ]
  },
  {
   "cell_type": "markdown",
   "metadata": {},
   "source": [
    "**Exercice 2:** Ecrire la fonction `initiales` qui prend en paramètre une chaîne de caractères de type `'NOM Prénom'` et qui renvoie un tuple contenant les initiales des noms et prénoms passés en argument. \n",
    "\n",
    "Ainsi `initiales('John Doe')` doit renvoyer `('J','D')`."
   ]
  },
  {
   "cell_type": "code",
   "execution_count": null,
   "metadata": {},
   "outputs": [],
   "source": [
    "#Votre code ici"
   ]
  },
  {
   "cell_type": "code",
   "execution_count": null,
   "metadata": {},
   "outputs": [],
   "source": [
    "assert initiales('Dark Vador')== ('D','V')\n",
    "assert initiales('Palpatine') == ('P',)"
   ]
  },
  {
   "cell_type": "markdown",
   "metadata": {},
   "source": [
    "<h3>      \n",
    "   II-LES ENSEMBLES\n",
    "</h3>"
   ]
  },
  {
   "cell_type": "markdown",
   "metadata": {},
   "source": [
    "Les ensemble ou sets forment un autre type de données construites en Python. Un ensemble est une collection d’éléments non ordonnée, sans index et qui ne peut pas posséder l’élément dupliqué.\n",
    "\n",
    "Une des utilisation les plus courantes des ensembles est de les utiliser pour supprimer des valeurs doublons à partir d’un autre type de données.\n",
    "\n",
    "Pour créer un ensemble, nous allons utiliser une paire d’accolades { } en placer les différents éléments de notre ensemble entre ces accolades en les séparant avec une virgule.\n",
    "\n",
    "Notez que pour créer un ensemble vide il faudra utiliser la fonction set() car la syntaxe { } va créer un dictionnaire vide et non pas un ensemble vide."
   ]
  },
  {
   "cell_type": "code",
   "execution_count": null,
   "metadata": {},
   "outputs": [],
   "source": [
    "s={4,1,2,2,3}\n",
    "print(s)\n",
    "print(type(s))"
   ]
  },
  {
   "cell_type": "code",
   "execution_count": null,
   "metadata": {},
   "outputs": [],
   "source": [
    "s1={}\n",
    "print(type(s1))\n",
    "s2=set()\n",
    "print(type(s2))"
   ]
  },
  {
   "cell_type": "markdown",
   "metadata": {},
   "source": [
    "La fonction set( ) permet la construction d’un ensemble à partir de n’importe quelle valeur itérable. En voici quelques exemples :"
   ]
  },
  {
   "cell_type": "code",
   "execution_count": null,
   "metadata": {},
   "outputs": [],
   "source": [
    "set('Bertrand')"
   ]
  },
  {
   "cell_type": "code",
   "execution_count": null,
   "metadata": {},
   "outputs": [],
   "source": [
    "set([3,1,4,1,5,9,8,10])"
   ]
  },
  {
   "cell_type": "markdown",
   "metadata": {},
   "source": [
    "Méthodes `add` et `remove`\n",
    "\n",
    "Ces méthodes ajoutent et retirent un élément dans un ensemble. Elles modifient l’ensemble:"
   ]
  },
  {
   "cell_type": "code",
   "execution_count": null,
   "metadata": {},
   "outputs": [],
   "source": [
    "ens1={1,2,3}\n",
    "print(4 in ens1)\n",
    "ens1.add(4)\n",
    "print(4 in ens1)"
   ]
  },
  {
   "cell_type": "code",
   "execution_count": null,
   "metadata": {},
   "outputs": [],
   "source": [
    "ens1.remove(4)\n",
    "print(4 in ens1)"
   ]
  },
  {
   "cell_type": "markdown",
   "metadata": {},
   "source": [
    "<h3>      \n",
    "   III-LES DICTIONNAIRES\n",
    "</h3>"
   ]
  },
  {
   "cell_type": "markdown",
   "metadata": {},
   "source": [
    "**1. Définition et création**"
   ]
  },
  {
   "cell_type": "markdown",
   "metadata": {},
   "source": [
    "Les types de données construits que nous avons abordés jusqu’à présent (chaînes, listes et tuples) sont tous des séquences, c’est-à-dire des suites ordonnées d’éléments. Dans une séquence, il est facile\n",
    "d’accéder à un élément quelconque à l’aide d’un index (un nombre entier), mais encore faut-il le connaître.\n",
    "\n",
    "Les dictionnaires constituent un autre type construit. Ils ressemblent aux listes( ils sont modifiables comme elles), mais ce ne sont pas des séquences. Les éléments que nous allons y enregistrer ne seront pas disposés dans un ordre immuable. En revanche, nous pourrons accéder à n’importe lequel d’entre eux à l’aide d’un index que l’on appellera une clé, laquelle pourra être alphabétique ou numérique.\n",
    "\n",
    "\n",
    "Comme dans une liste, les éléments mémorisés dans un dictionnaire peuvent être de n’importe quel type( valeurs numériques, chaînes, listes ou encore des dictionnaires, et même aussi des fonctions).\n",
    "\n",
    "Exemple :\n"
   ]
  },
  {
   "cell_type": "code",
   "execution_count": null,
   "metadata": {},
   "outputs": [],
   "source": [
    "dico1={}\n",
    "dico1['nom']='Paris-Orly Airport'\n",
    "dico1['ville']='Paris'\n",
    "dico1['pays']='France'\n",
    "dico1['code']='ORY'\n",
    "dico1['gps']=(48.7233333,2.3794444)\n",
    "\n",
    "print(dico1)\n",
    "print(dico1['code'])\n",
    "print(dico1['gps'])"
   ]
  },
  {
   "cell_type": "markdown",
   "metadata": {},
   "source": [
    "Remarques :\n",
    "\n",
    "- Des accolades délimitent un dictionnaire.\n",
    "- Les éléments d'un dictionnaire sont séparés par une virgule.\n",
    "- Chacun des éléments est une paire d'objets séparés par deux points : une clé et une valeur.\n",
    "- La valeur de la clé 'code' est 'ORY'.\n",
    "- La valeur de la clé 'gps' est un tuple de deux flottants."
   ]
  },
  {
   "cell_type": "markdown",
   "metadata": {},
   "source": [
    "**Exercice**"
   ]
  },
  {
   "cell_type": "markdown",
   "metadata": {},
   "source": [
    "Voici des données concernant l'aéroport international de Los Angeles :\n",
    "\n",
    "* __\"Los Angeles International Airport\",\"Los Angeles\",\"United States\",\"LAX\",33.94250107,-118.4079971__\n",
    "\n",
    "\n",
    "En utilisant les mêmes clés que dans l'exemple précédent, créer le dictionnaire 'dico2' qui contiendra les données ci-dessus"
   ]
  },
  {
   "cell_type": "code",
   "execution_count": null,
   "metadata": {},
   "outputs": [],
   "source": [
    "# Votre code ici\n",
    "\n",
    "print(dico2)\n",
    "print(dico2['gps'])"
   ]
  },
  {
   "cell_type": "markdown",
   "metadata": {},
   "source": [
    "**2. Méthodes:**"
   ]
  },
  {
   "cell_type": "code",
   "execution_count": null,
   "metadata": {},
   "outputs": [],
   "source": [
    "#Afficher les clés\n",
    "print(dico1.keys())\n",
    "\n",
    "#Affichées les valeurs\n",
    "print(dico1.values())\n",
    "\n",
    "#Afficher les éléments\n",
    "print(dico1.items())"
   ]
  },
  {
   "cell_type": "markdown",
   "metadata": {},
   "source": [
    "**3. Parcourir un dictionnaire**"
   ]
  },
  {
   "cell_type": "markdown",
   "metadata": {},
   "source": [
    "On peut traiter par un parcours les éléments contenus dans un dictionnaire:\n",
    "Au cours de l'itération, __ce sont les clés__ qui servent d'index\n",
    "\n",
    "Exemple :"
   ]
  },
  {
   "cell_type": "code",
   "execution_count": null,
   "metadata": {},
   "outputs": [],
   "source": [
    "for element in dico1:\n",
    "    print(element)"
   ]
  },
  {
   "cell_type": "markdown",
   "metadata": {},
   "source": [
    "<h3>      \n",
    "   IV-EXERCICES SUR LES DICTIONNAIRES\n",
    "</h3>"
   ]
  },
  {
   "cell_type": "markdown",
   "metadata": {},
   "source": [
    "**Exercice 1**"
   ]
  },
  {
   "cell_type": "markdown",
   "metadata": {},
   "source": [
    "Lors d'une élection, entre 2 et 6 candidats se présentent. Il y a 100 votants, chacun glisse un bulletin avec le nom d'un candidat dans l'urne. Les lignes de code ci-dessous simulent cette expérience."
   ]
  },
  {
   "cell_type": "code",
   "execution_count": null,
   "metadata": {},
   "outputs": [],
   "source": [
    "from random import *\n",
    "\n",
    "#liste des candidats potentiels\n",
    "noms=['Alice','Bob','Charlie','Daniella','Eva','Fred']\n",
    "\n",
    "#liste des candidats réels\n",
    "candidats=list(set([choice(noms) for i in range(randint(2,len(noms)))]))\n",
    "\n",
    "#nombre de votants\n",
    "votants=100\n",
    "\n",
    "#liste des bulletins dans l'urne\n",
    "urne=[choice(candidats) for i in range(votants)]\n",
    "\n",
    "print('Candidats : ',candidats)\n",
    "print(\"Contenu de l'urne :\", urne)"
   ]
  },
  {
   "cell_type": "markdown",
   "metadata": {},
   "source": [
    "1. Vérifier que les candidats réels changent à chaque éxecution de la cellule ci-desssus ainsi que le contenu de l'urne."
   ]
  },
  {
   "cell_type": "markdown",
   "metadata": {},
   "source": [
    "2. Compléter la fonction `depouillement(urne)`. Elle prend en paramètre une liste (la liste des bulletins exprimés) et renvoie un dctionnaire. Les paires clés-valeurs sont respectivement constituées du noms d'un candidat réels et du nombre de bulletins exprimés en sa faveur. Par exemple, si la liste des candidats est `['Alice','Charlie,'Bob']`, le résultat pourra s'afficher sous la forme `{'Bob': 317, 'Charlie': 363, 'Alice': 320}`"
   ]
  },
  {
   "cell_type": "code",
   "execution_count": null,
   "metadata": {},
   "outputs": [],
   "source": [
    "# Compléter la fonction\n",
    "def depouillement(urne):\n",
    "    #D'abord on crée le dictionnaire initialisé à 0 pour chaque candidtat apparaissant dans l'urne:\n",
    "    decompte={}\n",
    "    candidats=list(set(#compléter))\n",
    "    for i in range(len(candidats)):\n",
    "        decompte[candidats[i]]= #compléter\n",
    "    #Ensuite on compte les bulletins:\n",
    "    for bulletin in urne:\n",
    "        if bulletin in decompte:\n",
    "            #compléter\n",
    "    \n",
    "    return decompte\n",
    "\n",
    "\n",
    "depouillement(urne)"
   ]
  },
  {
   "cell_type": "markdown",
   "metadata": {},
   "source": [
    "3. Ecrire la fonction `vainqueur(election)` qui prend en paramètre un dictionnaire contenant le décompte d'une urne renvoyé par la fonction précédente et qui renvoie le nom du vainqueur."
   ]
  },
  {
   "cell_type": "code",
   "execution_count": null,
   "metadata": {},
   "outputs": [],
   "source": [
    "def vainqueur(election):\n",
    "    \n",
    "    \n",
    "    \n",
    "    \n",
    "    \n",
    "    \n",
    "    \n",
    "\n",
    "vainqueur(depouillement(urne))"
   ]
  },
  {
   "cell_type": "markdown",
   "metadata": {},
   "source": [
    "**Exercice 2**"
   ]
  },
  {
   "cell_type": "markdown",
   "metadata": {},
   "source": [
    "<img style='float:center;' src='https://openflights.org/demo/openflights-routedb-2048.png' width=500>\n",
    "\n",
    "Sur le site https://openflights.org/data.html , on trouve des bases de données mondiales aéronautiques.Le fichier `airports.txt`  présent dans le dossier de cette feuille contient des informations sur les aéroports.\n",
    "\n",
    "\n",
    "Chaque ligne de ce fichier est formatée comme l'exemple ci-dessous :\n",
    "\n",
    "`1989,\"Bora Bora Airport\",\"Bora Bora\",\"French Polynesia\",\"BOB\",\"NTTB\",-16.444400787353516,-151.75100708007812,10,-10,\"U\",\"Pacific/Tahiti\",\"airport\",\"OurAirports\"`\n",
    "\n",
    "On souhaite extraire les informations suivantes pour chaque aéroport:\n",
    "* Sa référence unique, un entier.\n",
    "* Le nom de l'aéroport, une chaîne de caractères\n",
    "* La ville principale qu'il dessert, une chaîne de caractères\n",
    "* Le pays de cette ville,une chaîne de caractères\n",
    "* Le code IATA de l'aéroport composé de 3 lettres en majuscules\n",
    "* Ses coordonées gps (latitude puis longitude), un tuple de 2 flottants."
   ]
  },
  {
   "cell_type": "markdown",
   "metadata": {},
   "source": [
    "1. Compléter les champs ci-dessous pour l'aéroport cité en exemple:\n",
    "   * ref : **Votre réponse ici**\n",
    "   * nom :  **Votre réponse ici**\n",
    "   * ville : **Votre réponse ici** \n",
    "   * pays : **Votre réponse ici**\n",
    "   * gps :  **V0tre réponse ici**"
   ]
  },
  {
   "cell_type": "markdown",
   "metadata": {},
   "source": [
    "2. La fonction `data_extract` doit parcourir le fichier et extraire les données demandées qu'elle renvoie sous forme d'une liste de dictionnaires.\n",
    "    - Chaque élément de la liste est donc un dictionnaire qui correspond à un aéroport. \n",
    "    - Les clés sont les noms des champs que l'on souhaite extraire et les valeurs sont celles associées à chaque aéroport.\n",
    "\n",
    "Modifier et compléter cette fonction pour qu'elle éxécute la tâche demandée :"
   ]
  },
  {
   "cell_type": "code",
   "execution_count": null,
   "metadata": {},
   "outputs": [],
   "source": [
    "def data_extract(chemin):\n",
    "    fichier = open(chemin, \"r\",encoding='utf-8')\n",
    "    res = [] # Pour contenir le résultat qui sera une liste de dictionnaires\n",
    "    for ligne in fichier:\n",
    "        datas = ligne.strip().split(\",\")  # une ligne du fichier\n",
    "        res.append(\n",
    "        { \"ref\": int(datas[0]),\n",
    "          \"nom\": datas[1][1:-1],\n",
    "          \"ville\": \"A compléter\",\n",
    "          \"pays\": datas[3][1:-1],\n",
    "          \"A compléter\": datas[4][1:-1],\n",
    "          \"gps\" : \"A compléter\"\n",
    "        })\n",
    "        \n",
    "    fichier.close()\n",
    "    return res\n",
    "\n",
    "airports=data_extract('airports.csv')\n",
    "\n",
    "#nombre d'aéroports référencés\n",
    "print(\"A compléter\")\n",
    "\n",
    "#un aéroport au hasard\n",
    "from random import choice\n",
    "print(choice(airports))"
   ]
  },
  {
   "cell_type": "markdown",
   "metadata": {},
   "source": [
    "3. A l'aide d'une liste en compréhension, récupérer la liste des villes françaises desservies par un aéroport"
   ]
  },
  {
   "cell_type": "code",
   "execution_count": null,
   "metadata": {},
   "outputs": [],
   "source": [
    "country='France'\n",
    "res=['A compléter']"
   ]
  },
  {
   "cell_type": "markdown",
   "metadata": {},
   "source": [
    "4. Ecrire la fonction `infos(airports,ville)`.\n",
    "\n",
    "Elle prend en paramètres la liste des dictionnaires de données extraites et une chaîne de caractères(le nom d'une ville). Elle renvoie les informations du ou des aéroports de cette ville dans une liste de dictionnaires:"
   ]
  },
  {
   "cell_type": "code",
   "execution_count": null,
   "metadata": {},
   "outputs": [],
   "source": [
    "def infos(airports,ville):\n",
    "    res=[]\n",
    "    \n",
    "    \n",
    "    \n",
    "    \n",
    "    return res\n",
    "\n",
    "print(infos(airports,'Nice'))"
   ]
  },
  {
   "cell_type": "markdown",
   "metadata": {},
   "source": [
    "5. Entrer la suite d'instructions permettant de récupérer les coordonnées gps X et Y de l'aeroport d'Orly.\n",
    "Aide: Le code de l'aeroport est ORY."
   ]
  },
  {
   "cell_type": "code",
   "execution_count": null,
   "metadata": {},
   "outputs": [],
   "source": [
    "# Votre code ici\n",
    "\n",
    "print(\"X= \",X)\n",
    "print(\"Y= \",Y)"
   ]
  },
  {
   "cell_type": "markdown",
   "metadata": {},
   "source": [
    "<h3>      \n",
    "   V - CONCLUSION\n",
    "</h3>"
   ]
  },
  {
   "cell_type": "markdown",
   "metadata": {},
   "source": [
    "Les types de données construites étudiés sont les listes, les tuples, les dictionnaires et les ensembles. Il est généralement moins évident de choisir quel type de données utiliser ici car on a tendance à penser “qu’ils se ressemblent tous”.\n",
    "\n",
    "Voici donc un résumé des grandes caractéristiques de ces types et se qui les différencie :\n",
    "\n",
    "- Les listes sont des collections d’éléments ordonnés et altérables qui peuvent contenir plusieurs fois la même valeur ;\n",
    "- Les tuples sont des collections d’éléments ordonnés et immuables qui peuvent contenir plusieurs fois la même valeur ;\n",
    "- Les dictionnaires sont des collection d’éléments non ordonnés mais indexés avec des clefs de notre choix et altérables qui n’acceptent pas de contenir plusieurs fois le même élément ;\n",
    "- Les ensembles sont des collections d’éléments non ordonnées, non indexés et non modifiables qui n’acceptent pas de contenir plusieurs fois le même élément."
   ]
  }
 ],
 "metadata": {
  "kernelspec": {
   "display_name": "Python 3",
   "language": "python",
   "name": "python3"
  },
  "language_info": {
   "codemirror_mode": {
    "name": "ipython",
    "version": 3
   },
   "file_extension": ".py",
   "mimetype": "text/x-python",
   "name": "python",
   "nbconvert_exporter": "python",
   "pygments_lexer": "ipython3",
   "version": "3.6.3"
  }
 },
 "nbformat": 4,
 "nbformat_minor": 2
}
